{
  "nbformat": 4,
  "nbformat_minor": 0,
  "metadata": {
    "colab": {
      "name": "Salary Prediction Project.ipynb",
      "provenance": [],
      "collapsed_sections": [
        "tIpmnuADmZUd",
        "xR7_EWqpeU9o",
        "KFDVYgf-eo5q",
        "4vjtXOm17p9V",
        "RKU2_llsp44Q",
        "Z1to0dJA0PbI",
        "Uy68oWmIkFzz",
        "pkiVltUFIRoe",
        "3-iernRPOX_8",
        "RYajGu1Rlb0P"
      ],
      "authorship_tag": "ABX9TyMjBiqkgGD5eXBUhvDlBl4+",
      "include_colab_link": true
    },
    "kernelspec": {
      "name": "python3",
      "display_name": "Python 3"
    },
    "language_info": {
      "name": "python"
    }
  },
  "cells": [
    {
      "cell_type": "markdown",
      "metadata": {
        "id": "view-in-github",
        "colab_type": "text"
      },
      "source": [
        "<a href=\"https://colab.research.google.com/github/jeangarcia77/Salary-Prediction-Analysis/blob/main/Salary_Prediction_Project.ipynb\" target=\"_parent\"><img src=\"https://colab.research.google.com/assets/colab-badge.svg\" alt=\"Open In Colab\"/></a>"
      ]
    },
    {
      "cell_type": "code",
      "execution_count": 86,
      "metadata": {
        "colab": {
          "base_uri": "https://localhost:8080/"
        },
        "id": "wM9M3qiThW_y",
        "outputId": "16cff884-f29f-48d1-a59c-346e12e2d418"
      },
      "outputs": [
        {
          "output_type": "stream",
          "name": "stdout",
          "text": [
            "Drive already mounted at /content/drive; to attempt to forcibly remount, call drive.mount(\"/content/drive\", force_remount=True).\n"
          ]
        }
      ],
      "source": [
        "from google.colab import drive\n",
        "drive.mount('/content/drive')"
      ]
    },
    {
      "cell_type": "code",
      "source": [
        "!pip install dython"
      ],
      "metadata": {
        "id": "NeXhvHkoohFT",
        "colab": {
          "base_uri": "https://localhost:8080/",
          "height": 644
        },
        "outputId": "268c7210-20c4-4777-d0fe-41166327277c"
      },
      "execution_count": 87,
      "outputs": [
        {
          "output_type": "stream",
          "name": "stdout",
          "text": [
            "Looking in indexes: https://pypi.org/simple, https://us-python.pkg.dev/colab-wheels/public/simple/\n",
            "Requirement already satisfied: dython in /usr/local/lib/python3.7/dist-packages (0.7.1.post3)\n",
            "Requirement already satisfied: pandas>=1.3.2 in /usr/local/lib/python3.7/dist-packages (from dython) (1.3.5)\n",
            "Collecting matplotlib>=3.4.3\n",
            "  Using cached matplotlib-3.5.2-cp37-cp37m-manylinux_2_5_x86_64.manylinux1_x86_64.whl (11.2 MB)\n",
            "Requirement already satisfied: scikit-learn>=0.24.2 in /usr/local/lib/python3.7/dist-packages (from dython) (1.0.2)\n",
            "Requirement already satisfied: seaborn>=0.11.0 in /usr/local/lib/python3.7/dist-packages (from dython) (0.11.2)\n",
            "Requirement already satisfied: scikit-plot>=0.3.7 in /usr/local/lib/python3.7/dist-packages (from dython) (0.3.7)\n",
            "Requirement already satisfied: scipy>=1.7.1 in /usr/local/lib/python3.7/dist-packages (from dython) (1.7.3)\n",
            "Requirement already satisfied: numpy>=1.19.5 in /usr/local/lib/python3.7/dist-packages (from dython) (1.21.6)\n",
            "Requirement already satisfied: kiwisolver>=1.0.1 in /usr/local/lib/python3.7/dist-packages (from matplotlib>=3.4.3->dython) (1.4.2)\n",
            "Requirement already satisfied: pillow>=6.2.0 in /usr/local/lib/python3.7/dist-packages (from matplotlib>=3.4.3->dython) (7.1.2)\n",
            "Requirement already satisfied: pyparsing>=2.2.1 in /usr/local/lib/python3.7/dist-packages (from matplotlib>=3.4.3->dython) (3.0.9)\n",
            "Requirement already satisfied: fonttools>=4.22.0 in /usr/local/lib/python3.7/dist-packages (from matplotlib>=3.4.3->dython) (4.33.3)\n",
            "Requirement already satisfied: cycler>=0.10 in /usr/local/lib/python3.7/dist-packages (from matplotlib>=3.4.3->dython) (0.11.0)\n",
            "Requirement already satisfied: python-dateutil>=2.7 in /usr/local/lib/python3.7/dist-packages (from matplotlib>=3.4.3->dython) (2.8.2)\n",
            "Requirement already satisfied: packaging>=20.0 in /usr/local/lib/python3.7/dist-packages (from matplotlib>=3.4.3->dython) (21.3)\n",
            "Requirement already satisfied: typing-extensions in /usr/local/lib/python3.7/dist-packages (from kiwisolver>=1.0.1->matplotlib>=3.4.3->dython) (4.2.0)\n",
            "Requirement already satisfied: pytz>=2017.3 in /usr/local/lib/python3.7/dist-packages (from pandas>=1.3.2->dython) (2022.1)\n",
            "Requirement already satisfied: six>=1.5 in /usr/local/lib/python3.7/dist-packages (from python-dateutil>=2.7->matplotlib>=3.4.3->dython) (1.15.0)\n",
            "Requirement already satisfied: joblib>=0.11 in /usr/local/lib/python3.7/dist-packages (from scikit-learn>=0.24.2->dython) (1.1.0)\n",
            "Requirement already satisfied: threadpoolctl>=2.0.0 in /usr/local/lib/python3.7/dist-packages (from scikit-learn>=0.24.2->dython) (3.1.0)\n",
            "Installing collected packages: matplotlib\n",
            "  Attempting uninstall: matplotlib\n",
            "    Found existing installation: matplotlib 3.4.0\n",
            "    Uninstalling matplotlib-3.4.0:\n",
            "      Successfully uninstalled matplotlib-3.4.0\n",
            "\u001b[31mERROR: pip's dependency resolver does not currently take into account all the packages that are installed. This behaviour is the source of the following dependency conflicts.\n",
            "albumentations 0.1.12 requires imgaug<0.2.7,>=0.2.5, but you have imgaug 0.2.9 which is incompatible.\u001b[0m\n",
            "Successfully installed matplotlib-3.5.2\n"
          ]
        },
        {
          "output_type": "display_data",
          "data": {
            "application/vnd.colab-display-data+json": {
              "pip_warning": {
                "packages": [
                  "matplotlib",
                  "mpl_toolkits"
                ]
              }
            }
          },
          "metadata": {}
        }
      ]
    },
    {
      "cell_type": "code",
      "source": [
        "pip install matplotlib==3.4.0"
      ],
      "metadata": {
        "colab": {
          "base_uri": "https://localhost:8080/",
          "height": 470
        },
        "id": "j7Yf569nkAop",
        "outputId": "03a81679-3c37-4e70-8f09-aadc3f0d5252"
      },
      "execution_count": 88,
      "outputs": [
        {
          "output_type": "stream",
          "name": "stdout",
          "text": [
            "Looking in indexes: https://pypi.org/simple, https://us-python.pkg.dev/colab-wheels/public/simple/\n",
            "Collecting matplotlib==3.4.0\n",
            "  Using cached matplotlib-3.4.0-cp37-cp37m-manylinux1_x86_64.whl (10.3 MB)\n",
            "Requirement already satisfied: kiwisolver>=1.0.1 in /usr/local/lib/python3.7/dist-packages (from matplotlib==3.4.0) (1.4.2)\n",
            "Requirement already satisfied: cycler>=0.10 in /usr/local/lib/python3.7/dist-packages (from matplotlib==3.4.0) (0.11.0)\n",
            "Requirement already satisfied: pillow>=6.2.0 in /usr/local/lib/python3.7/dist-packages (from matplotlib==3.4.0) (7.1.2)\n",
            "Requirement already satisfied: numpy>=1.16 in /usr/local/lib/python3.7/dist-packages (from matplotlib==3.4.0) (1.21.6)\n",
            "Requirement already satisfied: python-dateutil>=2.7 in /usr/local/lib/python3.7/dist-packages (from matplotlib==3.4.0) (2.8.2)\n",
            "Requirement already satisfied: pyparsing>=2.2.1 in /usr/local/lib/python3.7/dist-packages (from matplotlib==3.4.0) (3.0.9)\n",
            "Requirement already satisfied: typing-extensions in /usr/local/lib/python3.7/dist-packages (from kiwisolver>=1.0.1->matplotlib==3.4.0) (4.2.0)\n",
            "Requirement already satisfied: six>=1.5 in /usr/local/lib/python3.7/dist-packages (from python-dateutil>=2.7->matplotlib==3.4.0) (1.15.0)\n",
            "Installing collected packages: matplotlib\n",
            "  Attempting uninstall: matplotlib\n",
            "    Found existing installation: matplotlib 3.5.2\n",
            "    Uninstalling matplotlib-3.5.2:\n",
            "      Successfully uninstalled matplotlib-3.5.2\n",
            "\u001b[31mERROR: pip's dependency resolver does not currently take into account all the packages that are installed. This behaviour is the source of the following dependency conflicts.\n",
            "dython 0.7.1.post3 requires matplotlib>=3.4.3, but you have matplotlib 3.4.0 which is incompatible.\n",
            "albumentations 0.1.12 requires imgaug<0.2.7,>=0.2.5, but you have imgaug 0.2.9 which is incompatible.\u001b[0m\n",
            "Successfully installed matplotlib-3.4.0\n"
          ]
        },
        {
          "output_type": "display_data",
          "data": {
            "application/vnd.colab-display-data+json": {
              "pip_warning": {
                "packages": [
                  "matplotlib",
                  "mpl_toolkits"
                ]
              }
            }
          },
          "metadata": {}
        }
      ]
    },
    {
      "cell_type": "code",
      "source": [
        "import matplotlib.pyplot as plt\n",
        "import seaborn as sns\n",
        "import pandas as pd\n",
        "import numpy as np\n",
        "\n",
        "from sklearn.preprocessing import StandardScaler, OneHotEncoder\n",
        "from sklearn.neighbors import KNeighborsClassifier \n",
        "from sklearn.ensemble import RandomForestClassifier\n",
        "from sklearn.tree import DecisionTreeClassifier\n",
        "from sklearn.linear_model import LinearRegression\n",
        "from sklearn.preprocessing import OrdinalEncoder\n",
        "from sklearn.impute import SimpleImputer\n",
        "from sklearn.compose import make_column_transformer, make_column_selector\n",
        "#import accuracy, precision, recall, classification report, and confusion matrix scoring functions\n",
        "from sklearn.metrics import accuracy_score, precision_score, recall_score, classification_report, confusion_matrix,ConfusionMatrixDisplay\n",
        "from sklearn.pipeline import make_pipeline\n",
        "from sklearn.model_selection import train_test_split\n",
        "from dython.nominal import associations\n",
        "from sklearn import set_config\n",
        "set_config(display='diagram')\n"
      ],
      "metadata": {
        "id": "L4aBMoc8lRIf"
      },
      "execution_count": 89,
      "outputs": []
    },
    {
      "cell_type": "markdown",
      "source": [
        "# **Load Data**"
      ],
      "metadata": {
        "id": "M1PDgenshjVZ"
      }
    },
    {
      "cell_type": "markdown",
      "source": [
        "## **Salary Prediction**"
      ],
      "metadata": {
        "id": "spRKanJolFSO"
      }
    },
    {
      "cell_type": "markdown",
      "source": [
        "\n",
        "\n",
        "*   **Source of data**: [Kaggle](https://www.kaggle.com/datasets/ayessa/salary-prediction-classification)\n",
        "\n",
        "*   **Description**: This data extraction by Barry Becker from the 1994 Census database. The prediction task is to determine whether a person makes less or equal to $50k or more a year. The dataset includes numerical and categorical data. \n",
        "\n",
        "*   **Target**: Salary\n",
        "*   This is a **Classification** problem\n",
        "\n",
        "\n",
        "*   **Features**: 14 total\n",
        "\n",
        "\n",
        "*   **Rows**: 32,537\n",
        "\n",
        "\n",
        "*   **Challenges**: Since the data derives from old census data, there may be data that is missing. Real world data seems to have challenges with possible inconsistent values due to user error or incorrect dates.\n",
        "\n",
        "\n",
        "\n"
      ],
      "metadata": {
        "id": "36FixBg1nC6M"
      }
    },
    {
      "cell_type": "code",
      "source": [
        "filename = '/content/drive/MyDrive/07 Week 7: Classification Models/salary.csv'\n",
        "df_salary = pd.read_csv(filename)\n",
        "df_salary.head()"
      ],
      "metadata": {
        "id": "RzwilH7Dk_wR",
        "colab": {
          "base_uri": "https://localhost:8080/",
          "height": 337
        },
        "outputId": "09f490f8-e52c-4aef-91b3-83b2943e0835"
      },
      "execution_count": 90,
      "outputs": [
        {
          "output_type": "execute_result",
          "data": {
            "text/plain": [
              "   age          workclass  fnlwgt   education  education-num  \\\n",
              "0   39          State-gov   77516   Bachelors             13   \n",
              "1   50   Self-emp-not-inc   83311   Bachelors             13   \n",
              "2   38            Private  215646     HS-grad              9   \n",
              "3   53            Private  234721        11th              7   \n",
              "4   28            Private  338409   Bachelors             13   \n",
              "\n",
              "        marital-status          occupation    relationship    race      sex  \\\n",
              "0        Never-married        Adm-clerical   Not-in-family   White     Male   \n",
              "1   Married-civ-spouse     Exec-managerial         Husband   White     Male   \n",
              "2             Divorced   Handlers-cleaners   Not-in-family   White     Male   \n",
              "3   Married-civ-spouse   Handlers-cleaners         Husband   Black     Male   \n",
              "4   Married-civ-spouse      Prof-specialty            Wife   Black   Female   \n",
              "\n",
              "   capital-gain  capital-loss  hours-per-week  native-country  salary  \n",
              "0          2174             0              40   United-States   <=50K  \n",
              "1             0             0              13   United-States   <=50K  \n",
              "2             0             0              40   United-States   <=50K  \n",
              "3             0             0              40   United-States   <=50K  \n",
              "4             0             0              40            Cuba   <=50K  "
            ],
            "text/html": [
              "\n",
              "  <div id=\"df-15473dce-5d2b-46b9-beb0-61566a293d42\">\n",
              "    <div class=\"colab-df-container\">\n",
              "      <div>\n",
              "<style scoped>\n",
              "    .dataframe tbody tr th:only-of-type {\n",
              "        vertical-align: middle;\n",
              "    }\n",
              "\n",
              "    .dataframe tbody tr th {\n",
              "        vertical-align: top;\n",
              "    }\n",
              "\n",
              "    .dataframe thead th {\n",
              "        text-align: right;\n",
              "    }\n",
              "</style>\n",
              "<table border=\"1\" class=\"dataframe\">\n",
              "  <thead>\n",
              "    <tr style=\"text-align: right;\">\n",
              "      <th></th>\n",
              "      <th>age</th>\n",
              "      <th>workclass</th>\n",
              "      <th>fnlwgt</th>\n",
              "      <th>education</th>\n",
              "      <th>education-num</th>\n",
              "      <th>marital-status</th>\n",
              "      <th>occupation</th>\n",
              "      <th>relationship</th>\n",
              "      <th>race</th>\n",
              "      <th>sex</th>\n",
              "      <th>capital-gain</th>\n",
              "      <th>capital-loss</th>\n",
              "      <th>hours-per-week</th>\n",
              "      <th>native-country</th>\n",
              "      <th>salary</th>\n",
              "    </tr>\n",
              "  </thead>\n",
              "  <tbody>\n",
              "    <tr>\n",
              "      <th>0</th>\n",
              "      <td>39</td>\n",
              "      <td>State-gov</td>\n",
              "      <td>77516</td>\n",
              "      <td>Bachelors</td>\n",
              "      <td>13</td>\n",
              "      <td>Never-married</td>\n",
              "      <td>Adm-clerical</td>\n",
              "      <td>Not-in-family</td>\n",
              "      <td>White</td>\n",
              "      <td>Male</td>\n",
              "      <td>2174</td>\n",
              "      <td>0</td>\n",
              "      <td>40</td>\n",
              "      <td>United-States</td>\n",
              "      <td>&lt;=50K</td>\n",
              "    </tr>\n",
              "    <tr>\n",
              "      <th>1</th>\n",
              "      <td>50</td>\n",
              "      <td>Self-emp-not-inc</td>\n",
              "      <td>83311</td>\n",
              "      <td>Bachelors</td>\n",
              "      <td>13</td>\n",
              "      <td>Married-civ-spouse</td>\n",
              "      <td>Exec-managerial</td>\n",
              "      <td>Husband</td>\n",
              "      <td>White</td>\n",
              "      <td>Male</td>\n",
              "      <td>0</td>\n",
              "      <td>0</td>\n",
              "      <td>13</td>\n",
              "      <td>United-States</td>\n",
              "      <td>&lt;=50K</td>\n",
              "    </tr>\n",
              "    <tr>\n",
              "      <th>2</th>\n",
              "      <td>38</td>\n",
              "      <td>Private</td>\n",
              "      <td>215646</td>\n",
              "      <td>HS-grad</td>\n",
              "      <td>9</td>\n",
              "      <td>Divorced</td>\n",
              "      <td>Handlers-cleaners</td>\n",
              "      <td>Not-in-family</td>\n",
              "      <td>White</td>\n",
              "      <td>Male</td>\n",
              "      <td>0</td>\n",
              "      <td>0</td>\n",
              "      <td>40</td>\n",
              "      <td>United-States</td>\n",
              "      <td>&lt;=50K</td>\n",
              "    </tr>\n",
              "    <tr>\n",
              "      <th>3</th>\n",
              "      <td>53</td>\n",
              "      <td>Private</td>\n",
              "      <td>234721</td>\n",
              "      <td>11th</td>\n",
              "      <td>7</td>\n",
              "      <td>Married-civ-spouse</td>\n",
              "      <td>Handlers-cleaners</td>\n",
              "      <td>Husband</td>\n",
              "      <td>Black</td>\n",
              "      <td>Male</td>\n",
              "      <td>0</td>\n",
              "      <td>0</td>\n",
              "      <td>40</td>\n",
              "      <td>United-States</td>\n",
              "      <td>&lt;=50K</td>\n",
              "    </tr>\n",
              "    <tr>\n",
              "      <th>4</th>\n",
              "      <td>28</td>\n",
              "      <td>Private</td>\n",
              "      <td>338409</td>\n",
              "      <td>Bachelors</td>\n",
              "      <td>13</td>\n",
              "      <td>Married-civ-spouse</td>\n",
              "      <td>Prof-specialty</td>\n",
              "      <td>Wife</td>\n",
              "      <td>Black</td>\n",
              "      <td>Female</td>\n",
              "      <td>0</td>\n",
              "      <td>0</td>\n",
              "      <td>40</td>\n",
              "      <td>Cuba</td>\n",
              "      <td>&lt;=50K</td>\n",
              "    </tr>\n",
              "  </tbody>\n",
              "</table>\n",
              "</div>\n",
              "      <button class=\"colab-df-convert\" onclick=\"convertToInteractive('df-15473dce-5d2b-46b9-beb0-61566a293d42')\"\n",
              "              title=\"Convert this dataframe to an interactive table.\"\n",
              "              style=\"display:none;\">\n",
              "        \n",
              "  <svg xmlns=\"http://www.w3.org/2000/svg\" height=\"24px\"viewBox=\"0 0 24 24\"\n",
              "       width=\"24px\">\n",
              "    <path d=\"M0 0h24v24H0V0z\" fill=\"none\"/>\n",
              "    <path d=\"M18.56 5.44l.94 2.06.94-2.06 2.06-.94-2.06-.94-.94-2.06-.94 2.06-2.06.94zm-11 1L8.5 8.5l.94-2.06 2.06-.94-2.06-.94L8.5 2.5l-.94 2.06-2.06.94zm10 10l.94 2.06.94-2.06 2.06-.94-2.06-.94-.94-2.06-.94 2.06-2.06.94z\"/><path d=\"M17.41 7.96l-1.37-1.37c-.4-.4-.92-.59-1.43-.59-.52 0-1.04.2-1.43.59L10.3 9.45l-7.72 7.72c-.78.78-.78 2.05 0 2.83L4 21.41c.39.39.9.59 1.41.59.51 0 1.02-.2 1.41-.59l7.78-7.78 2.81-2.81c.8-.78.8-2.07 0-2.86zM5.41 20L4 18.59l7.72-7.72 1.47 1.35L5.41 20z\"/>\n",
              "  </svg>\n",
              "      </button>\n",
              "      \n",
              "  <style>\n",
              "    .colab-df-container {\n",
              "      display:flex;\n",
              "      flex-wrap:wrap;\n",
              "      gap: 12px;\n",
              "    }\n",
              "\n",
              "    .colab-df-convert {\n",
              "      background-color: #E8F0FE;\n",
              "      border: none;\n",
              "      border-radius: 50%;\n",
              "      cursor: pointer;\n",
              "      display: none;\n",
              "      fill: #1967D2;\n",
              "      height: 32px;\n",
              "      padding: 0 0 0 0;\n",
              "      width: 32px;\n",
              "    }\n",
              "\n",
              "    .colab-df-convert:hover {\n",
              "      background-color: #E2EBFA;\n",
              "      box-shadow: 0px 1px 2px rgba(60, 64, 67, 0.3), 0px 1px 3px 1px rgba(60, 64, 67, 0.15);\n",
              "      fill: #174EA6;\n",
              "    }\n",
              "\n",
              "    [theme=dark] .colab-df-convert {\n",
              "      background-color: #3B4455;\n",
              "      fill: #D2E3FC;\n",
              "    }\n",
              "\n",
              "    [theme=dark] .colab-df-convert:hover {\n",
              "      background-color: #434B5C;\n",
              "      box-shadow: 0px 1px 3px 1px rgba(0, 0, 0, 0.15);\n",
              "      filter: drop-shadow(0px 1px 2px rgba(0, 0, 0, 0.3));\n",
              "      fill: #FFFFFF;\n",
              "    }\n",
              "  </style>\n",
              "\n",
              "      <script>\n",
              "        const buttonEl =\n",
              "          document.querySelector('#df-15473dce-5d2b-46b9-beb0-61566a293d42 button.colab-df-convert');\n",
              "        buttonEl.style.display =\n",
              "          google.colab.kernel.accessAllowed ? 'block' : 'none';\n",
              "\n",
              "        async function convertToInteractive(key) {\n",
              "          const element = document.querySelector('#df-15473dce-5d2b-46b9-beb0-61566a293d42');\n",
              "          const dataTable =\n",
              "            await google.colab.kernel.invokeFunction('convertToInteractive',\n",
              "                                                     [key], {});\n",
              "          if (!dataTable) return;\n",
              "\n",
              "          const docLinkHtml = 'Like what you see? Visit the ' +\n",
              "            '<a target=\"_blank\" href=https://colab.research.google.com/notebooks/data_table.ipynb>data table notebook</a>'\n",
              "            + ' to learn more about interactive tables.';\n",
              "          element.innerHTML = '';\n",
              "          dataTable['output_type'] = 'display_data';\n",
              "          await google.colab.output.renderOutput(dataTable, element);\n",
              "          const docLink = document.createElement('div');\n",
              "          docLink.innerHTML = docLinkHtml;\n",
              "          element.appendChild(docLink);\n",
              "        }\n",
              "      </script>\n",
              "    </div>\n",
              "  </div>\n",
              "  "
            ]
          },
          "metadata": {},
          "execution_count": 90
        }
      ]
    },
    {
      "cell_type": "code",
      "source": [
        "df_salary['workclass'].value_counts()"
      ],
      "metadata": {
        "id": "2c4K93iH7r0K",
        "colab": {
          "base_uri": "https://localhost:8080/"
        },
        "outputId": "52e62e76-553d-49a8-90c6-dffef3d91cc0"
      },
      "execution_count": 91,
      "outputs": [
        {
          "output_type": "execute_result",
          "data": {
            "text/plain": [
              " Private             22696\n",
              " Self-emp-not-inc     2541\n",
              " Local-gov            2093\n",
              " ?                    1836\n",
              " State-gov            1298\n",
              " Self-emp-inc         1116\n",
              " Federal-gov           960\n",
              " Without-pay            14\n",
              " Never-worked            7\n",
              "Name: workclass, dtype: int64"
            ]
          },
          "metadata": {},
          "execution_count": 91
        }
      ]
    },
    {
      "cell_type": "code",
      "source": [
        "# Rows in dataset\n",
        "df_salary.value_counts().sum()"
      ],
      "metadata": {
        "id": "0wZNM0CesSw0",
        "colab": {
          "base_uri": "https://localhost:8080/"
        },
        "outputId": "0d69a46d-be00-433d-b6b3-6b5b6886df86"
      },
      "execution_count": 92,
      "outputs": [
        {
          "output_type": "execute_result",
          "data": {
            "text/plain": [
              "32561"
            ]
          },
          "metadata": {},
          "execution_count": 92
        }
      ]
    },
    {
      "cell_type": "code",
      "source": [
        "df_salary.info()"
      ],
      "metadata": {
        "id": "6xF_QCkKdB2D",
        "colab": {
          "base_uri": "https://localhost:8080/"
        },
        "outputId": "f16f1c13-44ba-40d6-d016-711dff9da25e"
      },
      "execution_count": 93,
      "outputs": [
        {
          "output_type": "stream",
          "name": "stdout",
          "text": [
            "<class 'pandas.core.frame.DataFrame'>\n",
            "RangeIndex: 32561 entries, 0 to 32560\n",
            "Data columns (total 15 columns):\n",
            " #   Column          Non-Null Count  Dtype \n",
            "---  ------          --------------  ----- \n",
            " 0   age             32561 non-null  int64 \n",
            " 1   workclass       32561 non-null  object\n",
            " 2   fnlwgt          32561 non-null  int64 \n",
            " 3   education       32561 non-null  object\n",
            " 4   education-num   32561 non-null  int64 \n",
            " 5   marital-status  32561 non-null  object\n",
            " 6   occupation      32561 non-null  object\n",
            " 7   relationship    32561 non-null  object\n",
            " 8   race            32561 non-null  object\n",
            " 9   sex             32561 non-null  object\n",
            " 10  capital-gain    32561 non-null  int64 \n",
            " 11  capital-loss    32561 non-null  int64 \n",
            " 12  hours-per-week  32561 non-null  int64 \n",
            " 13  native-country  32561 non-null  object\n",
            " 14  salary          32561 non-null  object\n",
            "dtypes: int64(6), object(9)\n",
            "memory usage: 3.7+ MB\n"
          ]
        }
      ]
    },
    {
      "cell_type": "markdown",
      "source": [
        "# **Identify and address any duplicate values**"
      ],
      "metadata": {
        "id": "tIpmnuADmZUd"
      }
    },
    {
      "cell_type": "code",
      "source": [
        "df_salary.duplicated().sum()"
      ],
      "metadata": {
        "id": "626NYeaPcxFo",
        "colab": {
          "base_uri": "https://localhost:8080/"
        },
        "outputId": "43b7a7d2-4d5e-4cf6-82f0-96d99f492576"
      },
      "execution_count": 94,
      "outputs": [
        {
          "output_type": "execute_result",
          "data": {
            "text/plain": [
              "24"
            ]
          },
          "metadata": {},
          "execution_count": 94
        }
      ]
    },
    {
      "cell_type": "code",
      "source": [
        "df_salary.drop_duplicates(inplace=True)"
      ],
      "metadata": {
        "id": "EKFeAJskdM8u"
      },
      "execution_count": 95,
      "outputs": []
    },
    {
      "cell_type": "code",
      "source": [
        "# Confirm duplicates have been dropped\n",
        "\n",
        "df_salary.duplicated().sum()"
      ],
      "metadata": {
        "id": "h7Yele8hd0MK",
        "colab": {
          "base_uri": "https://localhost:8080/"
        },
        "outputId": "fb00be3d-3b26-45ab-89e0-78471d2bb984"
      },
      "execution_count": 96,
      "outputs": [
        {
          "output_type": "execute_result",
          "data": {
            "text/plain": [
              "0"
            ]
          },
          "metadata": {},
          "execution_count": 96
        }
      ]
    },
    {
      "cell_type": "markdown",
      "source": [
        "# **Identify any missing values**"
      ],
      "metadata": {
        "id": "xR7_EWqpeU9o"
      }
    },
    {
      "cell_type": "code",
      "source": [
        "df_salary.info()"
      ],
      "metadata": {
        "id": "52s42blIeqsC",
        "colab": {
          "base_uri": "https://localhost:8080/"
        },
        "outputId": "311fe1c8-227c-46ea-fb01-9cc92d56024b"
      },
      "execution_count": 97,
      "outputs": [
        {
          "output_type": "stream",
          "name": "stdout",
          "text": [
            "<class 'pandas.core.frame.DataFrame'>\n",
            "Int64Index: 32537 entries, 0 to 32560\n",
            "Data columns (total 15 columns):\n",
            " #   Column          Non-Null Count  Dtype \n",
            "---  ------          --------------  ----- \n",
            " 0   age             32537 non-null  int64 \n",
            " 1   workclass       32537 non-null  object\n",
            " 2   fnlwgt          32537 non-null  int64 \n",
            " 3   education       32537 non-null  object\n",
            " 4   education-num   32537 non-null  int64 \n",
            " 5   marital-status  32537 non-null  object\n",
            " 6   occupation      32537 non-null  object\n",
            " 7   relationship    32537 non-null  object\n",
            " 8   race            32537 non-null  object\n",
            " 9   sex             32537 non-null  object\n",
            " 10  capital-gain    32537 non-null  int64 \n",
            " 11  capital-loss    32537 non-null  int64 \n",
            " 12  hours-per-week  32537 non-null  int64 \n",
            " 13  native-country  32537 non-null  object\n",
            " 14  salary          32537 non-null  object\n",
            "dtypes: int64(6), object(9)\n",
            "memory usage: 4.0+ MB\n"
          ]
        }
      ]
    },
    {
      "cell_type": "code",
      "source": [
        "df_salary.isna().sum()"
      ],
      "metadata": {
        "id": "M4YR-idseVVS",
        "colab": {
          "base_uri": "https://localhost:8080/"
        },
        "outputId": "56d495be-d0cc-4856-fc60-a1f07b95f509"
      },
      "execution_count": 98,
      "outputs": [
        {
          "output_type": "execute_result",
          "data": {
            "text/plain": [
              "age               0\n",
              "workclass         0\n",
              "fnlwgt            0\n",
              "education         0\n",
              "education-num     0\n",
              "marital-status    0\n",
              "occupation        0\n",
              "relationship      0\n",
              "race              0\n",
              "sex               0\n",
              "capital-gain      0\n",
              "capital-loss      0\n",
              "hours-per-week    0\n",
              "native-country    0\n",
              "salary            0\n",
              "dtype: int64"
            ]
          },
          "metadata": {},
          "execution_count": 98
        }
      ]
    },
    {
      "cell_type": "markdown",
      "source": [
        "# **Identify and address any inconsistencies in values**"
      ],
      "metadata": {
        "id": "KFDVYgf-eo5q"
      }
    },
    {
      "cell_type": "code",
      "source": [
        "df_salary.nunique()"
      ],
      "metadata": {
        "id": "YAkRvUl2e38M",
        "colab": {
          "base_uri": "https://localhost:8080/"
        },
        "outputId": "02d1917d-f0d7-42d8-b3fd-eca4e8f351a2"
      },
      "execution_count": 99,
      "outputs": [
        {
          "output_type": "execute_result",
          "data": {
            "text/plain": [
              "age                  73\n",
              "workclass             9\n",
              "fnlwgt            21648\n",
              "education            16\n",
              "education-num        16\n",
              "marital-status        7\n",
              "occupation           15\n",
              "relationship          6\n",
              "race                  5\n",
              "sex                   2\n",
              "capital-gain        119\n",
              "capital-loss         92\n",
              "hours-per-week       94\n",
              "native-country       42\n",
              "salary                2\n",
              "dtype: int64"
            ]
          },
          "metadata": {},
          "execution_count": 99
        }
      ]
    },
    {
      "cell_type": "code",
      "source": [
        "# ?\n",
        "df_salary['native-country'].value_counts()"
      ],
      "metadata": {
        "id": "iWpy6SLYhKvW",
        "colab": {
          "base_uri": "https://localhost:8080/"
        },
        "outputId": "0bf2276b-3355-4b41-f22a-40211f9a3a49"
      },
      "execution_count": 100,
      "outputs": [
        {
          "output_type": "execute_result",
          "data": {
            "text/plain": [
              " United-States                 29153\n",
              " Mexico                          639\n",
              " ?                               582\n",
              " Philippines                     198\n",
              " Germany                         137\n",
              " Canada                          121\n",
              " Puerto-Rico                     114\n",
              " El-Salvador                     106\n",
              " India                           100\n",
              " Cuba                             95\n",
              " England                          90\n",
              " Jamaica                          81\n",
              " South                            80\n",
              " China                            75\n",
              " Italy                            73\n",
              " Dominican-Republic               70\n",
              " Vietnam                          67\n",
              " Japan                            62\n",
              " Guatemala                        62\n",
              " Poland                           60\n",
              " Columbia                         59\n",
              " Taiwan                           51\n",
              " Haiti                            44\n",
              " Iran                             43\n",
              " Portugal                         37\n",
              " Nicaragua                        34\n",
              " Peru                             31\n",
              " France                           29\n",
              " Greece                           29\n",
              " Ecuador                          28\n",
              " Ireland                          24\n",
              " Hong                             20\n",
              " Cambodia                         19\n",
              " Trinadad&Tobago                  19\n",
              " Laos                             18\n",
              " Thailand                         18\n",
              " Yugoslavia                       16\n",
              " Outlying-US(Guam-USVI-etc)       14\n",
              " Honduras                         13\n",
              " Hungary                          13\n",
              " Scotland                         12\n",
              " Holand-Netherlands                1\n",
              "Name: native-country, dtype: int64"
            ]
          },
          "metadata": {},
          "execution_count": 100
        }
      ]
    },
    {
      "cell_type": "code",
      "source": [
        "# ? value \n",
        "df_salary['occupation'].value_counts()"
      ],
      "metadata": {
        "id": "041UnJMlgHZ-",
        "colab": {
          "base_uri": "https://localhost:8080/"
        },
        "outputId": "2ddc211d-ac42-4a97-ae6c-642dd4733891"
      },
      "execution_count": 101,
      "outputs": [
        {
          "output_type": "execute_result",
          "data": {
            "text/plain": [
              " Prof-specialty       4136\n",
              " Craft-repair         4094\n",
              " Exec-managerial      4065\n",
              " Adm-clerical         3768\n",
              " Sales                3650\n",
              " Other-service        3291\n",
              " Machine-op-inspct    2000\n",
              " ?                    1843\n",
              " Transport-moving     1597\n",
              " Handlers-cleaners    1369\n",
              " Farming-fishing       992\n",
              " Tech-support          927\n",
              " Protective-serv       649\n",
              " Priv-house-serv       147\n",
              " Armed-Forces            9\n",
              "Name: occupation, dtype: int64"
            ]
          },
          "metadata": {},
          "execution_count": 101
        }
      ]
    },
    {
      "cell_type": "code",
      "source": [
        "\n",
        "# ? value contains considerable amount of data\n",
        "df_salary['workclass'].value_counts()"
      ],
      "metadata": {
        "id": "yJ4I2tPUfOZT",
        "colab": {
          "base_uri": "https://localhost:8080/"
        },
        "outputId": "d58ab60a-3bdf-4376-d281-4b6a13a2fdc2"
      },
      "execution_count": 102,
      "outputs": [
        {
          "output_type": "execute_result",
          "data": {
            "text/plain": [
              " Private             22673\n",
              " Self-emp-not-inc     2540\n",
              " Local-gov            2093\n",
              " ?                    1836\n",
              " State-gov            1298\n",
              " Self-emp-inc         1116\n",
              " Federal-gov           960\n",
              " Without-pay            14\n",
              " Never-worked            7\n",
              "Name: workclass, dtype: int64"
            ]
          },
          "metadata": {},
          "execution_count": 102
        }
      ]
    },
    {
      "cell_type": "code",
      "source": [
        "df_salary['workclass'] = df_salary['workclass'].replace({' Private': 'Private'})"
      ],
      "metadata": {
        "id": "VFYFi0ay--kU"
      },
      "execution_count": 103,
      "outputs": []
    },
    {
      "cell_type": "code",
      "source": [
        "df_salary.info()"
      ],
      "metadata": {
        "id": "BpW7t9Na_NQx",
        "colab": {
          "base_uri": "https://localhost:8080/"
        },
        "outputId": "7a687594-a708-4026-e65b-96c5742c2259"
      },
      "execution_count": 104,
      "outputs": [
        {
          "output_type": "stream",
          "name": "stdout",
          "text": [
            "<class 'pandas.core.frame.DataFrame'>\n",
            "Int64Index: 32537 entries, 0 to 32560\n",
            "Data columns (total 15 columns):\n",
            " #   Column          Non-Null Count  Dtype \n",
            "---  ------          --------------  ----- \n",
            " 0   age             32537 non-null  int64 \n",
            " 1   workclass       32537 non-null  object\n",
            " 2   fnlwgt          32537 non-null  int64 \n",
            " 3   education       32537 non-null  object\n",
            " 4   education-num   32537 non-null  int64 \n",
            " 5   marital-status  32537 non-null  object\n",
            " 6   occupation      32537 non-null  object\n",
            " 7   relationship    32537 non-null  object\n",
            " 8   race            32537 non-null  object\n",
            " 9   sex             32537 non-null  object\n",
            " 10  capital-gain    32537 non-null  int64 \n",
            " 11  capital-loss    32537 non-null  int64 \n",
            " 12  hours-per-week  32537 non-null  int64 \n",
            " 13  native-country  32537 non-null  object\n",
            " 14  salary          32537 non-null  object\n",
            "dtypes: int64(6), object(9)\n",
            "memory usage: 4.0+ MB\n"
          ]
        }
      ]
    },
    {
      "cell_type": "code",
      "source": [
        "# Column seems to contain unique values\n",
        "df_salary['fnlwgt'].value_counts()"
      ],
      "metadata": {
        "id": "amnNF-ZOfo0I",
        "colab": {
          "base_uri": "https://localhost:8080/"
        },
        "outputId": "899619b9-99ec-457d-8599-e3912a69b4f0"
      },
      "execution_count": 105,
      "outputs": [
        {
          "output_type": "execute_result",
          "data": {
            "text/plain": [
              "164190    13\n",
              "123011    13\n",
              "203488    13\n",
              "148995    12\n",
              "113364    12\n",
              "          ..\n",
              "138342     1\n",
              "158040     1\n",
              "232784     1\n",
              "325573     1\n",
              "257302     1\n",
              "Name: fnlwgt, Length: 21648, dtype: int64"
            ]
          },
          "metadata": {},
          "execution_count": 105
        }
      ]
    },
    {
      "cell_type": "markdown",
      "source": [
        "# **Data Visualizations**"
      ],
      "metadata": {
        "id": "39RvRq10jR__"
      }
    },
    {
      "cell_type": "code",
      "source": [
        "# Majority of dataset values are within the less than or equal 50k salary range\n",
        "\n",
        "df_salary['salary'].value_counts(normalize=True).round(2)"
      ],
      "metadata": {
        "id": "oozSx-8msGAl",
        "colab": {
          "base_uri": "https://localhost:8080/"
        },
        "outputId": "c8036b5c-57f1-40f5-af8f-2931c637afb8"
      },
      "execution_count": 106,
      "outputs": [
        {
          "output_type": "execute_result",
          "data": {
            "text/plain": [
              " <=50K    0.76\n",
              " >50K     0.24\n",
              "Name: salary, dtype: float64"
            ]
          },
          "metadata": {},
          "execution_count": 106
        }
      ]
    },
    {
      "cell_type": "code",
      "source": [
        "ax = sns.countplot(x=df_salary.salary , hue='salary', data= df_salary, palette='Paired')\n",
        "ax.set_title('Salaries Breakdown')\n",
        "plt.show(ax , df_salary)"
      ],
      "metadata": {
        "id": "FQBz0hXNjVFo",
        "colab": {
          "base_uri": "https://localhost:8080/",
          "height": 295
        },
        "outputId": "d8b92c70-c8db-495d-f379-947e1518549e"
      },
      "execution_count": 107,
      "outputs": [
        {
          "output_type": "display_data",
          "data": {
            "text/plain": [
              "<Figure size 432x288 with 1 Axes>"
            ],
            "image/png": "[encoded data removed]"
          },
          "metadata": {
            "needs_background": "light"
          }
        }
      ]
    },
    {
      "cell_type": "code",
      "source": [
        "# The majority of the dataset consists of Male values (67%) vs the minority Female values (33%)\n",
        "df_gender = df_salary['sex'].value_counts(normalize=True).round(2)\n",
        "df_gender"
      ],
      "metadata": {
        "id": "0kOtOgs4rpYh",
        "colab": {
          "base_uri": "https://localhost:8080/"
        },
        "outputId": "9ffdefd0-3247-417f-bc2c-0c6f188676df"
      },
      "execution_count": 108,
      "outputs": [
        {
          "output_type": "execute_result",
          "data": {
            "text/plain": [
              " Male      0.67\n",
              " Female    0.33\n",
              "Name: sex, dtype: float64"
            ]
          },
          "metadata": {},
          "execution_count": 108
        }
      ]
    },
    {
      "cell_type": "code",
      "source": [
        "ax = sns.countplot( x=df_salary['sex'] , hue='salary', data= df_salary, palette='Paired')\n",
        "ax.set_title('Salaries Breakdown: Male vs Female')\n",
        "plt.show(ax , df_salary)\n"
      ],
      "metadata": {
        "id": "bShLrKUJrEMG",
        "colab": {
          "base_uri": "https://localhost:8080/",
          "height": 295
        },
        "outputId": "9cbd32c6-7b31-4ffe-f94c-12015bef64bc"
      },
      "execution_count": 109,
      "outputs": [
        {
          "output_type": "display_data",
          "data": {
            "text/plain": [
              "<Figure size 432x288 with 1 Axes>"
            ],
            "image/png": "[encoded data removed]"
          },
          "metadata": {
            "needs_background": "light"
          }
        }
      ]
    },
    {
      "cell_type": "markdown",
      "source": [
        "Dataset consists of a majority male values at a rate of 67% to the 33% of the female values. Imbalanced dataset may cause for bias towards Male values."
      ],
      "metadata": {
        "id": "uVU1eJJNshVj"
      }
    },
    {
      "cell_type": "code",
      "source": [
        "plt.xticks(rotation = 55)\n",
        "sns.barplot(data=df_salary, x=\"marital-status\", y=\"age\" , palette='Blues');"
      ],
      "metadata": {
        "id": "ETwhvwxryip8",
        "colab": {
          "base_uri": "https://localhost:8080/",
          "height": 372
        },
        "outputId": "89478910-854e-49e7-aed5-494950bb7c7e"
      },
      "execution_count": 110,
      "outputs": [
        {
          "output_type": "display_data",
          "data": {
            "text/plain": [
              "<Figure size 432x288 with 1 Axes>"
            ],
            "image/png": "[encoded data removed]"
          },
          "metadata": {
            "needs_background": "light"
          }
        }
      ]
    },
    {
      "cell_type": "markdown",
      "source": [
        "Moderate correlation between Marital status and age"
      ],
      "metadata": {
        "id": "7e7nC9T5AsyW"
      }
    },
    {
      "cell_type": "code",
      "source": [
        "# Data of Top careers making equal to or greater than $50k\n",
        "\n",
        "df_salary[df_salary.salary == 1].groupby(['occupation'])['salary'].count()[:6].sort_values(ascending=False).plot.bar();"
      ],
      "metadata": {
        "colab": {
          "base_uri": "https://localhost:8080/",
          "height": 356
        },
        "id": "gR0tc1RNtwMW",
        "outputId": "5934574d-9df3-4346-84dc-cd4506fb51f3"
      },
      "execution_count": 166,
      "outputs": [
        {
          "output_type": "display_data",
          "data": {
            "text/plain": [
              "<Figure size 432x288 with 1 Axes>"
            ],
            "image/png": "[encoded data removed]"
          },
          "metadata": {
            "needs_background": "light"
          }
        }
      ]
    },
    {
      "cell_type": "markdown",
      "source": [
        "Top occupations where individuals make equal to or greater than $50k."
      ],
      "metadata": {
        "id": "h5Btu1gkYJ0w"
      }
    },
    {
      "cell_type": "code",
      "source": [
        "high_salary = df_salary[df_salary.salary == 1].groupby(['occupation'])['salary'].value_counts().sum()\n",
        "print(f'Number of people making greater than or equal to $50k is: {high_salary}')"
      ],
      "metadata": {
        "colab": {
          "base_uri": "https://localhost:8080/"
        },
        "id": "yFB_GICd4IW1",
        "outputId": "d1da6e30-f56e-485c-f8e4-bbfe128835b3"
      },
      "execution_count": 145,
      "outputs": [
        {
          "output_type": "stream",
          "name": "stdout",
          "text": [
            "Number of people making greater than or equal to $50k is: 7839\n"
          ]
        }
      ]
    },
    {
      "cell_type": "code",
      "source": [
        "top5_occupations  = df_salary.groupby(['occupation'])['salary'].sum().sort_values(ascending=False)\n",
        "top5_occupations = top5_occupations[:5,]\n",
        "plt.figure(figsize=(10,5))\n",
        "ax = sns.barplot(top5_occupations.index, top5_occupations.values, alpha=0.8, palette=\"Blues_r\")\n",
        "plt.title('Top 5 Occupation types')\n",
        "plt.ylabel('Salary', fontsize=14)\n",
        "plt.xlabel('Occupation', fontsize=14)\n",
        "plt.show()"
      ],
      "metadata": {
        "colab": {
          "base_uri": "https://localhost:8080/",
          "height": 409
        },
        "id": "Woq2fsd5Dgll",
        "outputId": "c97e80e8-b34d-4ac7-a43e-34e735da8810"
      },
      "execution_count": 146,
      "outputs": [
        {
          "output_type": "stream",
          "name": "stderr",
          "text": [
            "/usr/local/lib/python3.7/dist-packages/seaborn/_decorators.py:43: FutureWarning: Pass the following variables as keyword args: x, y. From version 0.12, the only valid positional argument will be `data`, and passing other arguments without an explicit keyword will result in an error or misinterpretation.\n",
            "  FutureWarning\n"
          ]
        },
        {
          "output_type": "display_data",
          "data": {
            "text/plain": [
              "<Figure size 720x360 with 1 Axes>"
            ],
            "image/png": "[encoded data removed]"
          },
          "metadata": {
            "needs_background": "light"
          }
        }
      ]
    },
    {
      "cell_type": "code",
      "source": [
        "# Count of the many different occupations in our dataset\n",
        "\n",
        "df_salary['occupation'].value_counts()"
      ],
      "metadata": {
        "id": "2FE0kY7ipuID",
        "colab": {
          "base_uri": "https://localhost:8080/"
        },
        "outputId": "fe76460b-c904-4466-ab7c-388319dcc55f"
      },
      "execution_count": 147,
      "outputs": [
        {
          "output_type": "execute_result",
          "data": {
            "text/plain": [
              " Prof-specialty       4136\n",
              " Craft-repair         4094\n",
              " Exec-managerial      4065\n",
              " Adm-clerical         3768\n",
              " Sales                3650\n",
              " Other-service        3291\n",
              " Machine-op-inspct    2000\n",
              " ?                    1843\n",
              " Transport-moving     1597\n",
              " Handlers-cleaners    1369\n",
              " Farming-fishing       992\n",
              " Tech-support          927\n",
              " Protective-serv       649\n",
              " Priv-house-serv       147\n",
              " Armed-Forces            9\n",
              "Name: occupation, dtype: int64"
            ]
          },
          "metadata": {},
          "execution_count": 147
        }
      ]
    },
    {
      "cell_type": "code",
      "source": [
        "ax= sns.kdeplot(data=df_salary, x=\"hours-per-week\", hue='salary', bw_adjust=5, cut=0, multiple='stack',palette='Blues')\n",
        "# appropriate graph due to large population size                "
      ],
      "metadata": {
        "id": "zTB6v6bynNxc",
        "colab": {
          "base_uri": "https://localhost:8080/",
          "height": 279
        },
        "outputId": "0bc806c2-cd64-4023-a943-e4220753c577"
      },
      "execution_count": 148,
      "outputs": [
        {
          "output_type": "display_data",
          "data": {
            "text/plain": [
              "<Figure size 432x288 with 1 Axes>"
            ],
            "image/png": "[encoded data removed]"
          },
          "metadata": {
            "needs_background": "light"
          }
        }
      ]
    },
    {
      "cell_type": "markdown",
      "source": [
        "Density curve of Hours per week worked for salaries less than or equal to 50k(0) and greater than 50k(1).\n",
        "\n",
        "Mean is equal to **40.44**, which is the average work hours per week for the dataset for both categories."
      ],
      "metadata": {
        "id": "0apdXZhlvO3-"
      }
    },
    {
      "cell_type": "code",
      "source": [
        "df_salary['hours-per-week'].describe()"
      ],
      "metadata": {
        "id": "10UDbY97xcxr",
        "colab": {
          "base_uri": "https://localhost:8080/"
        },
        "outputId": "895cf539-f417-4909-af4f-8f6509e23f5a"
      },
      "execution_count": 149,
      "outputs": [
        {
          "output_type": "execute_result",
          "data": {
            "text/plain": [
              "count    32537.000000\n",
              "mean        40.440329\n",
              "std         12.346889\n",
              "min          1.000000\n",
              "25%         40.000000\n",
              "50%         40.000000\n",
              "75%         45.000000\n",
              "max         99.000000\n",
              "Name: hours-per-week, dtype: float64"
            ]
          },
          "metadata": {},
          "execution_count": 149
        }
      ]
    },
    {
      "cell_type": "code",
      "source": [
        "ax= sns.kdeplot(data=df_salary, x=\"age\", hue='salary', fill=True,common_norm=False,alpha=.5,linewidth=0, palette='crest')"
      ],
      "metadata": {
        "id": "O4IznF_YzNvu",
        "colab": {
          "base_uri": "https://localhost:8080/",
          "height": 279
        },
        "outputId": "485c02f5-9005-4722-e2e4-635f99b702e4"
      },
      "execution_count": 150,
      "outputs": [
        {
          "output_type": "display_data",
          "data": {
            "text/plain": [
              "<Figure size 432x288 with 1 Axes>"
            ],
            "image/png": "[encoded data removed]"
          },
          "metadata": {
            "needs_background": "light"
          }
        }
      ]
    },
    {
      "cell_type": "markdown",
      "source": [
        "Density curve of Age for salaries less than or equal to 50k and greater than 50k.\n",
        "\n",
        "Mean is equal to **38.56**, which is the average age for the dataset for both categories."
      ],
      "metadata": {
        "id": "TTrsk4QU0f9A"
      }
    },
    {
      "cell_type": "code",
      "source": [
        "df_salary['age'].describe()"
      ],
      "metadata": {
        "id": "FsaB-79k0blv",
        "colab": {
          "base_uri": "https://localhost:8080/"
        },
        "outputId": "02e2a2d0-5d2a-49cb-cb36-f02476904ff0"
      },
      "execution_count": 151,
      "outputs": [
        {
          "output_type": "execute_result",
          "data": {
            "text/plain": [
              "count    32537.000000\n",
              "mean        38.585549\n",
              "std         13.637984\n",
              "min         17.000000\n",
              "25%         28.000000\n",
              "50%         37.000000\n",
              "75%         48.000000\n",
              "max         90.000000\n",
              "Name: age, dtype: float64"
            ]
          },
          "metadata": {},
          "execution_count": 151
        }
      ]
    },
    {
      "cell_type": "markdown",
      "source": [
        "## Correlation Heatmap between Numeric columns"
      ],
      "metadata": {
        "id": "4vjtXOm17p9V"
      }
    },
    {
      "cell_type": "code",
      "source": [
        "# Correalation Heatmap between data in numeric columns\n",
        "corr = df_salary.corr()\n",
        "\n",
        "plt.figure(figsize=(8,6))\n",
        "sns.heatmap(corr, cmap='Blues', annot=True);"
      ],
      "metadata": {
        "id": "uWLun45JoFdX"
      },
      "execution_count": null,
      "outputs": []
    },
    {
      "cell_type": "markdown",
      "source": [
        "Correlation between numeric features seem to not have any moderate/strong trends."
      ],
      "metadata": {
        "id": "i1SZsqn67b4i"
      }
    },
    {
      "cell_type": "markdown",
      "source": [
        "## Correlation Heatmap between Numeric and Categorical columns"
      ],
      "metadata": {
        "id": "RKU2_llsp44Q"
      }
    },
    {
      "cell_type": "code",
      "source": [
        "# Correlation Heatmap between Numeric and Categorical columns\n",
        "\n",
        "associations(df_salary, figsize=(15, 15), cmap='Blues');"
      ],
      "metadata": {
        "id": "lzlfEx8zpUpt"
      },
      "execution_count": null,
      "outputs": []
    },
    {
      "cell_type": "markdown",
      "source": [
        "Strongest Correlation:\n",
        "\n",
        "\n",
        "*   65% - Sex & Relationship\n",
        "\n",
        "Moderate Correlation:\n",
        "*   57% - Maritial Status & Age\n",
        "*   56% - Occupation & Education-Num\n",
        "\n",
        "\n",
        "*   49% - Maritial Status and Relationship\n",
        "\n",
        "\n",
        "*   46% - Sex & Maritial Status\n",
        "*   45% - Salary & Maritial Status\n",
        "\n",
        "\n",
        "*   45% - Salary & Relationship\n",
        "\n",
        "\n",
        "\n",
        "\n",
        "\n",
        "\n"
      ],
      "metadata": {
        "id": "LVRjwBDBso3N"
      }
    },
    {
      "cell_type": "markdown",
      "source": [
        "# **Identify any Outliers**"
      ],
      "metadata": {
        "id": "Z1to0dJA0PbI"
      }
    },
    {
      "cell_type": "code",
      "source": [
        "df_salary.describe()"
      ],
      "metadata": {
        "id": "LDyOo_FG0HBS"
      },
      "execution_count": null,
      "outputs": []
    },
    {
      "cell_type": "markdown",
      "source": [
        "Dataset seems to have consistent values; there seems to be no impossible values initially. "
      ],
      "metadata": {
        "id": "97OKV5HA0SlS"
      }
    },
    {
      "cell_type": "markdown",
      "source": [
        "# **Data Preprocessing**"
      ],
      "metadata": {
        "id": "Uy68oWmIkFzz"
      }
    },
    {
      "cell_type": "code",
      "source": [
        "df_salary['salary'].value_counts(normalize = True)"
      ],
      "metadata": {
        "id": "C9vVhXZ6Z9_T",
        "colab": {
          "base_uri": "https://localhost:8080/"
        },
        "outputId": "8d73a788-d936-4a77-aba0-f31d798eb37b"
      },
      "execution_count": 112,
      "outputs": [
        {
          "output_type": "execute_result",
          "data": {
            "text/plain": [
              " <=50K    0.759074\n",
              " >50K     0.240926\n",
              "Name: salary, dtype: float64"
            ]
          },
          "metadata": {},
          "execution_count": 112
        }
      ]
    },
    {
      "cell_type": "code",
      "source": [
        "df_salary['salary']= df_salary['salary'].replace({'<=50K': 0, '>50K': 1}, regex=True)\n",
        "\n",
        "# regex=true made replace possible for binary\n",
        "# reference - https://stackoverflow.com/questions/67409458/why-is-pandas-replace-method-not-working"
      ],
      "metadata": {
        "id": "NmvqQCoMWsV2"
      },
      "execution_count": 113,
      "outputs": []
    },
    {
      "cell_type": "code",
      "source": [
        "df_salary.drop([\"fnlwgt\", \"education-num\"], axis = 1, inplace = True)"
      ],
      "metadata": {
        "id": "61usTmjcb_T2"
      },
      "execution_count": 114,
      "outputs": []
    },
    {
      "cell_type": "code",
      "source": [
        "df_salary['salary'].value_counts()"
      ],
      "metadata": {
        "id": "Q_XLRNabc9sB",
        "colab": {
          "base_uri": "https://localhost:8080/"
        },
        "outputId": "12759d83-1ca3-4124-ed83-8a424c76a325"
      },
      "execution_count": 115,
      "outputs": [
        {
          "output_type": "execute_result",
          "data": {
            "text/plain": [
              "0    24698\n",
              "1     7839\n",
              "Name: salary, dtype: int64"
            ]
          },
          "metadata": {},
          "execution_count": 115
        }
      ]
    },
    {
      "cell_type": "code",
      "source": [
        "# Salary is the target\n",
        "y = df_salary['salary']\n",
        "\n",
        "# drop salary since it is the target. Dropped fnlwgt and education-num as they contain a majority of unique data points and have no value to our analysis\n",
        "X = df_salary.drop('salary', axis=1)\n",
        "\n",
        "X_train, X_test, y_train, y_test= train_test_split(X, y, random_state=42)"
      ],
      "metadata": {
        "id": "_4BYd28ilLk0"
      },
      "execution_count": 116,
      "outputs": []
    },
    {
      "cell_type": "code",
      "source": [
        "df_salary.info()"
      ],
      "metadata": {
        "id": "2Rsh4mU10j91",
        "colab": {
          "base_uri": "https://localhost:8080/"
        },
        "outputId": "763f82a3-d912-4a99-de9a-195beddf4442"
      },
      "execution_count": 117,
      "outputs": [
        {
          "output_type": "stream",
          "name": "stdout",
          "text": [
            "<class 'pandas.core.frame.DataFrame'>\n",
            "Int64Index: 32537 entries, 0 to 32560\n",
            "Data columns (total 13 columns):\n",
            " #   Column          Non-Null Count  Dtype \n",
            "---  ------          --------------  ----- \n",
            " 0   age             32537 non-null  int64 \n",
            " 1   workclass       32537 non-null  object\n",
            " 2   education       32537 non-null  object\n",
            " 3   marital-status  32537 non-null  object\n",
            " 4   occupation      32537 non-null  object\n",
            " 5   relationship    32537 non-null  object\n",
            " 6   race            32537 non-null  object\n",
            " 7   sex             32537 non-null  object\n",
            " 8   capital-gain    32537 non-null  int64 \n",
            " 9   capital-loss    32537 non-null  int64 \n",
            " 10  hours-per-week  32537 non-null  int64 \n",
            " 11  native-country  32537 non-null  object\n",
            " 12  salary          32537 non-null  int64 \n",
            "dtypes: int64(5), object(8)\n",
            "memory usage: 4.5+ MB\n"
          ]
        }
      ]
    },
    {
      "cell_type": "code",
      "source": [
        "df_salary.isna().sum()"
      ],
      "metadata": {
        "id": "k6_AILr639ym",
        "colab": {
          "base_uri": "https://localhost:8080/"
        },
        "outputId": "b690e50a-c884-43cf-863d-422cbf95082c"
      },
      "execution_count": 118,
      "outputs": [
        {
          "output_type": "execute_result",
          "data": {
            "text/plain": [
              "age               0\n",
              "workclass         0\n",
              "education         0\n",
              "marital-status    0\n",
              "occupation        0\n",
              "relationship      0\n",
              "race              0\n",
              "sex               0\n",
              "capital-gain      0\n",
              "capital-loss      0\n",
              "hours-per-week    0\n",
              "native-country    0\n",
              "salary            0\n",
              "dtype: int64"
            ]
          },
          "metadata": {},
          "execution_count": 118
        }
      ]
    },
    {
      "cell_type": "code",
      "source": [
        "df_salary.head()"
      ],
      "metadata": {
        "id": "68u-39bd8Mul",
        "colab": {
          "base_uri": "https://localhost:8080/",
          "height": 0
        },
        "outputId": "1d25a3e3-c420-439c-b17c-256ed86b0000"
      },
      "execution_count": 119,
      "outputs": [
        {
          "output_type": "execute_result",
          "data": {
            "text/plain": [
              "   age          workclass   education       marital-status  \\\n",
              "0   39          State-gov   Bachelors        Never-married   \n",
              "1   50   Self-emp-not-inc   Bachelors   Married-civ-spouse   \n",
              "2   38            Private     HS-grad             Divorced   \n",
              "3   53            Private        11th   Married-civ-spouse   \n",
              "4   28            Private   Bachelors   Married-civ-spouse   \n",
              "\n",
              "           occupation    relationship    race      sex  capital-gain  \\\n",
              "0        Adm-clerical   Not-in-family   White     Male          2174   \n",
              "1     Exec-managerial         Husband   White     Male             0   \n",
              "2   Handlers-cleaners   Not-in-family   White     Male             0   \n",
              "3   Handlers-cleaners         Husband   Black     Male             0   \n",
              "4      Prof-specialty            Wife   Black   Female             0   \n",
              "\n",
              "   capital-loss  hours-per-week  native-country  salary  \n",
              "0             0              40   United-States       0  \n",
              "1             0              13   United-States       0  \n",
              "2             0              40   United-States       0  \n",
              "3             0              40   United-States       0  \n",
              "4             0              40            Cuba       0  "
            ],
            "text/html": [
              "\n",
              "  <div id=\"df-0bc02a54-4695-4559-ba72-2a42c4703c74\">\n",
              "    <div class=\"colab-df-container\">\n",
              "      <div>\n",
              "<style scoped>\n",
              "    .dataframe tbody tr th:only-of-type {\n",
              "        vertical-align: middle;\n",
              "    }\n",
              "\n",
              "    .dataframe tbody tr th {\n",
              "        vertical-align: top;\n",
              "    }\n",
              "\n",
              "    .dataframe thead th {\n",
              "        text-align: right;\n",
              "    }\n",
              "</style>\n",
              "<table border=\"1\" class=\"dataframe\">\n",
              "  <thead>\n",
              "    <tr style=\"text-align: right;\">\n",
              "      <th></th>\n",
              "      <th>age</th>\n",
              "      <th>workclass</th>\n",
              "      <th>education</th>\n",
              "      <th>marital-status</th>\n",
              "      <th>occupation</th>\n",
              "      <th>relationship</th>\n",
              "      <th>race</th>\n",
              "      <th>sex</th>\n",
              "      <th>capital-gain</th>\n",
              "      <th>capital-loss</th>\n",
              "      <th>hours-per-week</th>\n",
              "      <th>native-country</th>\n",
              "      <th>salary</th>\n",
              "    </tr>\n",
              "  </thead>\n",
              "  <tbody>\n",
              "    <tr>\n",
              "      <th>0</th>\n",
              "      <td>39</td>\n",
              "      <td>State-gov</td>\n",
              "      <td>Bachelors</td>\n",
              "      <td>Never-married</td>\n",
              "      <td>Adm-clerical</td>\n",
              "      <td>Not-in-family</td>\n",
              "      <td>White</td>\n",
              "      <td>Male</td>\n",
              "      <td>2174</td>\n",
              "      <td>0</td>\n",
              "      <td>40</td>\n",
              "      <td>United-States</td>\n",
              "      <td>0</td>\n",
              "    </tr>\n",
              "    <tr>\n",
              "      <th>1</th>\n",
              "      <td>50</td>\n",
              "      <td>Self-emp-not-inc</td>\n",
              "      <td>Bachelors</td>\n",
              "      <td>Married-civ-spouse</td>\n",
              "      <td>Exec-managerial</td>\n",
              "      <td>Husband</td>\n",
              "      <td>White</td>\n",
              "      <td>Male</td>\n",
              "      <td>0</td>\n",
              "      <td>0</td>\n",
              "      <td>13</td>\n",
              "      <td>United-States</td>\n",
              "      <td>0</td>\n",
              "    </tr>\n",
              "    <tr>\n",
              "      <th>2</th>\n",
              "      <td>38</td>\n",
              "      <td>Private</td>\n",
              "      <td>HS-grad</td>\n",
              "      <td>Divorced</td>\n",
              "      <td>Handlers-cleaners</td>\n",
              "      <td>Not-in-family</td>\n",
              "      <td>White</td>\n",
              "      <td>Male</td>\n",
              "      <td>0</td>\n",
              "      <td>0</td>\n",
              "      <td>40</td>\n",
              "      <td>United-States</td>\n",
              "      <td>0</td>\n",
              "    </tr>\n",
              "    <tr>\n",
              "      <th>3</th>\n",
              "      <td>53</td>\n",
              "      <td>Private</td>\n",
              "      <td>11th</td>\n",
              "      <td>Married-civ-spouse</td>\n",
              "      <td>Handlers-cleaners</td>\n",
              "      <td>Husband</td>\n",
              "      <td>Black</td>\n",
              "      <td>Male</td>\n",
              "      <td>0</td>\n",
              "      <td>0</td>\n",
              "      <td>40</td>\n",
              "      <td>United-States</td>\n",
              "      <td>0</td>\n",
              "    </tr>\n",
              "    <tr>\n",
              "      <th>4</th>\n",
              "      <td>28</td>\n",
              "      <td>Private</td>\n",
              "      <td>Bachelors</td>\n",
              "      <td>Married-civ-spouse</td>\n",
              "      <td>Prof-specialty</td>\n",
              "      <td>Wife</td>\n",
              "      <td>Black</td>\n",
              "      <td>Female</td>\n",
              "      <td>0</td>\n",
              "      <td>0</td>\n",
              "      <td>40</td>\n",
              "      <td>Cuba</td>\n",
              "      <td>0</td>\n",
              "    </tr>\n",
              "  </tbody>\n",
              "</table>\n",
              "</div>\n",
              "      <button class=\"colab-df-convert\" onclick=\"convertToInteractive('df-0bc02a54-4695-4559-ba72-2a42c4703c74')\"\n",
              "              title=\"Convert this dataframe to an interactive table.\"\n",
              "              style=\"display:none;\">\n",
              "        \n",
              "  <svg xmlns=\"http://www.w3.org/2000/svg\" height=\"24px\"viewBox=\"0 0 24 24\"\n",
              "       width=\"24px\">\n",
              "    <path d=\"M0 0h24v24H0V0z\" fill=\"none\"/>\n",
              "    <path d=\"M18.56 5.44l.94 2.06.94-2.06 2.06-.94-2.06-.94-.94-2.06-.94 2.06-2.06.94zm-11 1L8.5 8.5l.94-2.06 2.06-.94-2.06-.94L8.5 2.5l-.94 2.06-2.06.94zm10 10l.94 2.06.94-2.06 2.06-.94-2.06-.94-.94-2.06-.94 2.06-2.06.94z\"/><path d=\"M17.41 7.96l-1.37-1.37c-.4-.4-.92-.59-1.43-.59-.52 0-1.04.2-1.43.59L10.3 9.45l-7.72 7.72c-.78.78-.78 2.05 0 2.83L4 21.41c.39.39.9.59 1.41.59.51 0 1.02-.2 1.41-.59l7.78-7.78 2.81-2.81c.8-.78.8-2.07 0-2.86zM5.41 20L4 18.59l7.72-7.72 1.47 1.35L5.41 20z\"/>\n",
              "  </svg>\n",
              "      </button>\n",
              "      \n",
              "  <style>\n",
              "    .colab-df-container {\n",
              "      display:flex;\n",
              "      flex-wrap:wrap;\n",
              "      gap: 12px;\n",
              "    }\n",
              "\n",
              "    .colab-df-convert {\n",
              "      background-color: #E8F0FE;\n",
              "      border: none;\n",
              "      border-radius: 50%;\n",
              "      cursor: pointer;\n",
              "      display: none;\n",
              "      fill: #1967D2;\n",
              "      height: 32px;\n",
              "      padding: 0 0 0 0;\n",
              "      width: 32px;\n",
              "    }\n",
              "\n",
              "    .colab-df-convert:hover {\n",
              "      background-color: #E2EBFA;\n",
              "      box-shadow: 0px 1px 2px rgba(60, 64, 67, 0.3), 0px 1px 3px 1px rgba(60, 64, 67, 0.15);\n",
              "      fill: #174EA6;\n",
              "    }\n",
              "\n",
              "    [theme=dark] .colab-df-convert {\n",
              "      background-color: #3B4455;\n",
              "      fill: #D2E3FC;\n",
              "    }\n",
              "\n",
              "    [theme=dark] .colab-df-convert:hover {\n",
              "      background-color: #434B5C;\n",
              "      box-shadow: 0px 1px 3px 1px rgba(0, 0, 0, 0.15);\n",
              "      filter: drop-shadow(0px 1px 2px rgba(0, 0, 0, 0.3));\n",
              "      fill: #FFFFFF;\n",
              "    }\n",
              "  </style>\n",
              "\n",
              "      <script>\n",
              "        const buttonEl =\n",
              "          document.querySelector('#df-0bc02a54-4695-4559-ba72-2a42c4703c74 button.colab-df-convert');\n",
              "        buttonEl.style.display =\n",
              "          google.colab.kernel.accessAllowed ? 'block' : 'none';\n",
              "\n",
              "        async function convertToInteractive(key) {\n",
              "          const element = document.querySelector('#df-0bc02a54-4695-4559-ba72-2a42c4703c74');\n",
              "          const dataTable =\n",
              "            await google.colab.kernel.invokeFunction('convertToInteractive',\n",
              "                                                     [key], {});\n",
              "          if (!dataTable) return;\n",
              "\n",
              "          const docLinkHtml = 'Like what you see? Visit the ' +\n",
              "            '<a target=\"_blank\" href=https://colab.research.google.com/notebooks/data_table.ipynb>data table notebook</a>'\n",
              "            + ' to learn more about interactive tables.';\n",
              "          element.innerHTML = '';\n",
              "          dataTable['output_type'] = 'display_data';\n",
              "          await google.colab.output.renderOutput(dataTable, element);\n",
              "          const docLink = document.createElement('div');\n",
              "          docLink.innerHTML = docLinkHtml;\n",
              "          element.appendChild(docLink);\n",
              "        }\n",
              "      </script>\n",
              "    </div>\n",
              "  </div>\n",
              "  "
            ]
          },
          "metadata": {},
          "execution_count": 119
        }
      ]
    },
    {
      "cell_type": "code",
      "source": [
        "# Instantiate the selectors for numeric and categorical data types\n",
        "\n",
        "scaler = StandardScaler()\n",
        "ohe = OneHotEncoder(sparse=False, handle_unknown='ignore')\n",
        "\n",
        "num_selector = make_column_selector(dtype_include='number')\n",
        "cat_selector = make_column_selector(dtype_include='object')\n",
        "\n",
        "# Numerical data - Mean Strategy\n",
        "mean_imputer = SimpleImputer(strategy='mean', fill_value=None)\n",
        "# Categorical data - Mode Strategy\n",
        "freq_imputer = SimpleImputer(strategy='most_frequent')\n",
        "\n",
        "# numeric pipeline\n",
        "num_pipeline = make_pipeline(mean_imputer, scaler)\n",
        "cat_pipeline = make_pipeline(freq_imputer, ohe)\n",
        "\n",
        "num_tuple = (num_pipeline, num_selector)\n",
        "cat_tuple = (cat_pipeline, cat_selector)"
      ],
      "metadata": {
        "id": "0nyORuf17wni"
      },
      "execution_count": 120,
      "outputs": []
    },
    {
      "cell_type": "code",
      "source": [
        "preprocessing_pipeline = make_column_transformer(num_tuple, cat_tuple, remainder='passthrough')\n",
        "preprocessing_pipeline"
      ],
      "metadata": {
        "id": "9arFq1LY8mNe",
        "colab": {
          "base_uri": "https://localhost:8080/",
          "height": 0
        },
        "outputId": "78ed46f2-5f7d-4193-9611-1cea513ee080"
      },
      "execution_count": 121,
      "outputs": [
        {
          "output_type": "execute_result",
          "data": {
            "text/plain": [
              "ColumnTransformer(remainder='passthrough',\n",
              "                  transformers=[('pipeline-1',\n",
              "                                 Pipeline(steps=[('simpleimputer',\n",
              "                                                  SimpleImputer()),\n",
              "                                                 ('standardscaler',\n",
              "                                                  StandardScaler())]),\n",
              "                                 <sklearn.compose._column_transformer.make_column_selector object at 0x7fd0d69ed910>),\n",
              "                                ('pipeline-2',\n",
              "                                 Pipeline(steps=[('simpleimputer',\n",
              "                                                  SimpleImputer(strategy='most_frequent')),\n",
              "                                                 ('onehotencoder',\n",
              "                                                  OneHotEncoder(handle_unknown='ignore',\n",
              "                                                                sparse=False))]),\n",
              "                                 <sklearn.compose._column_transformer.make_column_selector object at 0x7fd0d69ed8d0>)])"
            ],
            "text/html": [
              "<style>#sk-7014900f-b0f4-4b84-ae30-e92389ef8124 {color: black;background-color: white;}#sk-7014900f-b0f4-4b84-ae30-e92389ef8124 pre{padding: 0;}#sk-7014900f-b0f4-4b84-ae30-e92389ef8124 div.sk-toggleable {background-color: white;}#sk-7014900f-b0f4-4b84-ae30-e92389ef8124 label.sk-toggleable__label {cursor: pointer;display: block;width: 100%;margin-bottom: 0;padding: 0.3em;box-sizing: border-box;text-align: center;}#sk-7014900f-b0f4-4b84-ae30-e92389ef8124 label.sk-toggleable__label-arrow:before {content: \"▸\";float: left;margin-right: 0.25em;color: #696969;}#sk-7014900f-b0f4-4b84-ae30-e92389ef8124 label.sk-toggleable__label-arrow:hover:before {color: black;}#sk-7014900f-b0f4-4b84-ae30-e92389ef8124 div.sk-estimator:hover label.sk-toggleable__label-arrow:before {color: black;}#sk-7014900f-b0f4-4b84-ae30-e92389ef8124 div.sk-toggleable__content {max-height: 0;max-width: 0;overflow: hidden;text-align: left;background-color: #f0f8ff;}#sk-7014900f-b0f4-4b84-ae30-e92389ef8124 div.sk-toggleable__content pre {margin: 0.2em;color: black;border-radius: 0.25em;background-color: #f0f8ff;}#sk-7014900f-b0f4-4b84-ae30-e92389ef8124 input.sk-toggleable__control:checked~div.sk-toggleable__content {max-height: 200px;max-width: 100%;overflow: auto;}#sk-7014900f-b0f4-4b84-ae30-e92389ef8124 input.sk-toggleable__control:checked~label.sk-toggleable__label-arrow:before {content: \"▾\";}#sk-7014900f-b0f4-4b84-ae30-e92389ef8124 div.sk-estimator input.sk-toggleable__control:checked~label.sk-toggleable__label {background-color: #d4ebff;}#sk-7014900f-b0f4-4b84-ae30-e92389ef8124 div.sk-label input.sk-toggleable__control:checked~label.sk-toggleable__label {background-color: #d4ebff;}#sk-7014900f-b0f4-4b84-ae30-e92389ef8124 input.sk-hidden--visually {border: 0;clip: rect(1px 1px 1px 1px);clip: rect(1px, 1px, 1px, 1px);height: 1px;margin: -1px;overflow: hidden;padding: 0;position: absolute;width: 1px;}#sk-7014900f-b0f4-4b84-ae30-e92389ef8124 div.sk-estimator {font-family: monospace;background-color: #f0f8ff;border: 1px dotted black;border-radius: 0.25em;box-sizing: border-box;margin-bottom: 0.5em;}#sk-7014900f-b0f4-4b84-ae30-e92389ef8124 div.sk-estimator:hover {background-color: #d4ebff;}#sk-7014900f-b0f4-4b84-ae30-e92389ef8124 div.sk-parallel-item::after {content: \"\";width: 100%;border-bottom: 1px solid gray;flex-grow: 1;}#sk-7014900f-b0f4-4b84-ae30-e92389ef8124 div.sk-label:hover label.sk-toggleable__label {background-color: #d4ebff;}#sk-7014900f-b0f4-4b84-ae30-e92389ef8124 div.sk-serial::before {content: \"\";position: absolute;border-left: 1px solid gray;box-sizing: border-box;top: 2em;bottom: 0;left: 50%;}#sk-7014900f-b0f4-4b84-ae30-e92389ef8124 div.sk-serial {display: flex;flex-direction: column;align-items: center;background-color: white;padding-right: 0.2em;padding-left: 0.2em;}#sk-7014900f-b0f4-4b84-ae30-e92389ef8124 div.sk-item {z-index: 1;}#sk-7014900f-b0f4-4b84-ae30-e92389ef8124 div.sk-parallel {display: flex;align-items: stretch;justify-content: center;background-color: white;}#sk-7014900f-b0f4-4b84-ae30-e92389ef8124 div.sk-parallel::before {content: \"\";position: absolute;border-left: 1px solid gray;box-sizing: border-box;top: 2em;bottom: 0;left: 50%;}#sk-7014900f-b0f4-4b84-ae30-e92389ef8124 div.sk-parallel-item {display: flex;flex-direction: column;position: relative;background-color: white;}#sk-7014900f-b0f4-4b84-ae30-e92389ef8124 div.sk-parallel-item:first-child::after {align-self: flex-end;width: 50%;}#sk-7014900f-b0f4-4b84-ae30-e92389ef8124 div.sk-parallel-item:last-child::after {align-self: flex-start;width: 50%;}#sk-7014900f-b0f4-4b84-ae30-e92389ef8124 div.sk-parallel-item:only-child::after {width: 0;}#sk-7014900f-b0f4-4b84-ae30-e92389ef8124 div.sk-dashed-wrapped {border: 1px dashed gray;margin: 0 0.4em 0.5em 0.4em;box-sizing: border-box;padding-bottom: 0.4em;background-color: white;position: relative;}#sk-7014900f-b0f4-4b84-ae30-e92389ef8124 div.sk-label label {font-family: monospace;font-weight: bold;background-color: white;display: inline-block;line-height: 1.2em;}#sk-7014900f-b0f4-4b84-ae30-e92389ef8124 div.sk-label-container {position: relative;z-index: 2;text-align: center;}#sk-7014900f-b0f4-4b84-ae30-e92389ef8124 div.sk-container {/* jupyter's `normalize.less` sets `[hidden] { display: none; }` but bootstrap.min.css set `[hidden] { display: none !important; }` so we also need the `!important` here to be able to override the default hidden behavior on the sphinx rendered scikit-learn.org. See: https://github.com/scikit-learn/scikit-learn/issues/21755 */display: inline-block !important;position: relative;}#sk-7014900f-b0f4-4b84-ae30-e92389ef8124 div.sk-text-repr-fallback {display: none;}</style><div id=\"sk-7014900f-b0f4-4b84-ae30-e92389ef8124\" class=\"sk-top-container\"><div class=\"sk-text-repr-fallback\"><pre>ColumnTransformer(remainder=&#x27;passthrough&#x27;,\n",
              "                  transformers=[(&#x27;pipeline-1&#x27;,\n",
              "                                 Pipeline(steps=[(&#x27;simpleimputer&#x27;,\n",
              "                                                  SimpleImputer()),\n",
              "                                                 (&#x27;standardscaler&#x27;,\n",
              "                                                  StandardScaler())]),\n",
              "                                 &lt;sklearn.compose._column_transformer.make_column_selector object at 0x7fd0d69ed910&gt;),\n",
              "                                (&#x27;pipeline-2&#x27;,\n",
              "                                 Pipeline(steps=[(&#x27;simpleimputer&#x27;,\n",
              "                                                  SimpleImputer(strategy=&#x27;most_frequent&#x27;)),\n",
              "                                                 (&#x27;onehotencoder&#x27;,\n",
              "                                                  OneHotEncoder(handle_unknown=&#x27;ignore&#x27;,\n",
              "                                                                sparse=False))]),\n",
              "                                 &lt;sklearn.compose._column_transformer.make_column_selector object at 0x7fd0d69ed8d0&gt;)])</pre><b>Please rerun this cell to show the HTML repr or trust the notebook.</b></div><div class=\"sk-container\" hidden><div class=\"sk-item sk-dashed-wrapped\"><div class=\"sk-label-container\"><div class=\"sk-label sk-toggleable\"><input class=\"sk-toggleable__control sk-hidden--visually\" id=\"4ba4b30b-655f-44b1-b153-b2b0dfae87b0\" type=\"checkbox\" ><label for=\"4ba4b30b-655f-44b1-b153-b2b0dfae87b0\" class=\"sk-toggleable__label sk-toggleable__label-arrow\">ColumnTransformer</label><div class=\"sk-toggleable__content\"><pre>ColumnTransformer(remainder=&#x27;passthrough&#x27;,\n",
              "                  transformers=[(&#x27;pipeline-1&#x27;,\n",
              "                                 Pipeline(steps=[(&#x27;simpleimputer&#x27;,\n",
              "                                                  SimpleImputer()),\n",
              "                                                 (&#x27;standardscaler&#x27;,\n",
              "                                                  StandardScaler())]),\n",
              "                                 &lt;sklearn.compose._column_transformer.make_column_selector object at 0x7fd0d69ed910&gt;),\n",
              "                                (&#x27;pipeline-2&#x27;,\n",
              "                                 Pipeline(steps=[(&#x27;simpleimputer&#x27;,\n",
              "                                                  SimpleImputer(strategy=&#x27;most_frequent&#x27;)),\n",
              "                                                 (&#x27;onehotencoder&#x27;,\n",
              "                                                  OneHotEncoder(handle_unknown=&#x27;ignore&#x27;,\n",
              "                                                                sparse=False))]),\n",
              "                                 &lt;sklearn.compose._column_transformer.make_column_selector object at 0x7fd0d69ed8d0&gt;)])</pre></div></div></div><div class=\"sk-parallel\"><div class=\"sk-parallel-item\"><div class=\"sk-item\"><div class=\"sk-label-container\"><div class=\"sk-label sk-toggleable\"><input class=\"sk-toggleable__control sk-hidden--visually\" id=\"ad4958ac-d91a-4b4a-8585-129e56833394\" type=\"checkbox\" ><label for=\"ad4958ac-d91a-4b4a-8585-129e56833394\" class=\"sk-toggleable__label sk-toggleable__label-arrow\">pipeline-1</label><div class=\"sk-toggleable__content\"><pre>&lt;sklearn.compose._column_transformer.make_column_selector object at 0x7fd0d69ed910&gt;</pre></div></div></div><div class=\"sk-serial\"><div class=\"sk-item\"><div class=\"sk-serial\"><div class=\"sk-item\"><div class=\"sk-estimator sk-toggleable\"><input class=\"sk-toggleable__control sk-hidden--visually\" id=\"71379c80-ee4f-4558-bfc2-c17e3c433ed5\" type=\"checkbox\" ><label for=\"71379c80-ee4f-4558-bfc2-c17e3c433ed5\" class=\"sk-toggleable__label sk-toggleable__label-arrow\">SimpleImputer</label><div class=\"sk-toggleable__content\"><pre>SimpleImputer()</pre></div></div></div><div class=\"sk-item\"><div class=\"sk-estimator sk-toggleable\"><input class=\"sk-toggleable__control sk-hidden--visually\" id=\"9c8a85c2-0389-48a0-8d5a-68ba6d3b46e4\" type=\"checkbox\" ><label for=\"9c8a85c2-0389-48a0-8d5a-68ba6d3b46e4\" class=\"sk-toggleable__label sk-toggleable__label-arrow\">StandardScaler</label><div class=\"sk-toggleable__content\"><pre>StandardScaler()</pre></div></div></div></div></div></div></div></div><div class=\"sk-parallel-item\"><div class=\"sk-item\"><div class=\"sk-label-container\"><div class=\"sk-label sk-toggleable\"><input class=\"sk-toggleable__control sk-hidden--visually\" id=\"397472d6-9d4b-4aea-a6b2-bd39876ddfc2\" type=\"checkbox\" ><label for=\"397472d6-9d4b-4aea-a6b2-bd39876ddfc2\" class=\"sk-toggleable__label sk-toggleable__label-arrow\">pipeline-2</label><div class=\"sk-toggleable__content\"><pre>&lt;sklearn.compose._column_transformer.make_column_selector object at 0x7fd0d69ed8d0&gt;</pre></div></div></div><div class=\"sk-serial\"><div class=\"sk-item\"><div class=\"sk-serial\"><div class=\"sk-item\"><div class=\"sk-estimator sk-toggleable\"><input class=\"sk-toggleable__control sk-hidden--visually\" id=\"54433a9b-740c-4d78-a5a9-b68bff98f46b\" type=\"checkbox\" ><label for=\"54433a9b-740c-4d78-a5a9-b68bff98f46b\" class=\"sk-toggleable__label sk-toggleable__label-arrow\">SimpleImputer</label><div class=\"sk-toggleable__content\"><pre>SimpleImputer(strategy=&#x27;most_frequent&#x27;)</pre></div></div></div><div class=\"sk-item\"><div class=\"sk-estimator sk-toggleable\"><input class=\"sk-toggleable__control sk-hidden--visually\" id=\"51cd1ba2-ffb8-441e-bda4-8795cb565b6f\" type=\"checkbox\" ><label for=\"51cd1ba2-ffb8-441e-bda4-8795cb565b6f\" class=\"sk-toggleable__label sk-toggleable__label-arrow\">OneHotEncoder</label><div class=\"sk-toggleable__content\"><pre>OneHotEncoder(handle_unknown=&#x27;ignore&#x27;, sparse=False)</pre></div></div></div></div></div></div></div></div><div class=\"sk-parallel-item\"><div class=\"sk-item\"><div class=\"sk-label-container\"><div class=\"sk-label sk-toggleable\"><input class=\"sk-toggleable__control sk-hidden--visually\" id=\"40732ea9-3f55-45eb-940e-e0b42fcc8738\" type=\"checkbox\" ><label for=\"40732ea9-3f55-45eb-940e-e0b42fcc8738\" class=\"sk-toggleable__label sk-toggleable__label-arrow\">remainder</label><div class=\"sk-toggleable__content\"><pre></pre></div></div></div><div class=\"sk-serial\"><div class=\"sk-item\"><div class=\"sk-estimator sk-toggleable\"><input class=\"sk-toggleable__control sk-hidden--visually\" id=\"1fcae9fd-f64c-4f8e-b10b-3f710c0c134a\" type=\"checkbox\" ><label for=\"1fcae9fd-f64c-4f8e-b10b-3f710c0c134a\" class=\"sk-toggleable__label sk-toggleable__label-arrow\">passthrough</label><div class=\"sk-toggleable__content\"><pre>passthrough</pre></div></div></div></div></div></div></div></div></div></div>"
            ]
          },
          "metadata": {},
          "execution_count": 121
        }
      ]
    },
    {
      "cell_type": "code",
      "source": [
        "preprocessing_pipeline.fit(X_train)"
      ],
      "metadata": {
        "id": "6uUH5r_y8o7T",
        "colab": {
          "base_uri": "https://localhost:8080/",
          "height": 0
        },
        "outputId": "c508253f-df4e-45b1-8de1-80c405c09719"
      },
      "execution_count": 122,
      "outputs": [
        {
          "output_type": "execute_result",
          "data": {
            "text/plain": [
              "ColumnTransformer(remainder='passthrough',\n",
              "                  transformers=[('pipeline-1',\n",
              "                                 Pipeline(steps=[('simpleimputer',\n",
              "                                                  SimpleImputer()),\n",
              "                                                 ('standardscaler',\n",
              "                                                  StandardScaler())]),\n",
              "                                 <sklearn.compose._column_transformer.make_column_selector object at 0x7fd0d69ed910>),\n",
              "                                ('pipeline-2',\n",
              "                                 Pipeline(steps=[('simpleimputer',\n",
              "                                                  SimpleImputer(strategy='most_frequent')),\n",
              "                                                 ('onehotencoder',\n",
              "                                                  OneHotEncoder(handle_unknown='ignore',\n",
              "                                                                sparse=False))]),\n",
              "                                 <sklearn.compose._column_transformer.make_column_selector object at 0x7fd0d69ed8d0>)])"
            ],
            "text/html": [
              "<style>#sk-5b41504b-2045-4eeb-bd0f-1804b88332f5 {color: black;background-color: white;}#sk-5b41504b-2045-4eeb-bd0f-1804b88332f5 pre{padding: 0;}#sk-5b41504b-2045-4eeb-bd0f-1804b88332f5 div.sk-toggleable {background-color: white;}#sk-5b41504b-2045-4eeb-bd0f-1804b88332f5 label.sk-toggleable__label {cursor: pointer;display: block;width: 100%;margin-bottom: 0;padding: 0.3em;box-sizing: border-box;text-align: center;}#sk-5b41504b-2045-4eeb-bd0f-1804b88332f5 label.sk-toggleable__label-arrow:before {content: \"▸\";float: left;margin-right: 0.25em;color: #696969;}#sk-5b41504b-2045-4eeb-bd0f-1804b88332f5 label.sk-toggleable__label-arrow:hover:before {color: black;}#sk-5b41504b-2045-4eeb-bd0f-1804b88332f5 div.sk-estimator:hover label.sk-toggleable__label-arrow:before {color: black;}#sk-5b41504b-2045-4eeb-bd0f-1804b88332f5 div.sk-toggleable__content {max-height: 0;max-width: 0;overflow: hidden;text-align: left;background-color: #f0f8ff;}#sk-5b41504b-2045-4eeb-bd0f-1804b88332f5 div.sk-toggleable__content pre {margin: 0.2em;color: black;border-radius: 0.25em;background-color: #f0f8ff;}#sk-5b41504b-2045-4eeb-bd0f-1804b88332f5 input.sk-toggleable__control:checked~div.sk-toggleable__content {max-height: 200px;max-width: 100%;overflow: auto;}#sk-5b41504b-2045-4eeb-bd0f-1804b88332f5 input.sk-toggleable__control:checked~label.sk-toggleable__label-arrow:before {content: \"▾\";}#sk-5b41504b-2045-4eeb-bd0f-1804b88332f5 div.sk-estimator input.sk-toggleable__control:checked~label.sk-toggleable__label {background-color: #d4ebff;}#sk-5b41504b-2045-4eeb-bd0f-1804b88332f5 div.sk-label input.sk-toggleable__control:checked~label.sk-toggleable__label {background-color: #d4ebff;}#sk-5b41504b-2045-4eeb-bd0f-1804b88332f5 input.sk-hidden--visually {border: 0;clip: rect(1px 1px 1px 1px);clip: rect(1px, 1px, 1px, 1px);height: 1px;margin: -1px;overflow: hidden;padding: 0;position: absolute;width: 1px;}#sk-5b41504b-2045-4eeb-bd0f-1804b88332f5 div.sk-estimator {font-family: monospace;background-color: #f0f8ff;border: 1px dotted black;border-radius: 0.25em;box-sizing: border-box;margin-bottom: 0.5em;}#sk-5b41504b-2045-4eeb-bd0f-1804b88332f5 div.sk-estimator:hover {background-color: #d4ebff;}#sk-5b41504b-2045-4eeb-bd0f-1804b88332f5 div.sk-parallel-item::after {content: \"\";width: 100%;border-bottom: 1px solid gray;flex-grow: 1;}#sk-5b41504b-2045-4eeb-bd0f-1804b88332f5 div.sk-label:hover label.sk-toggleable__label {background-color: #d4ebff;}#sk-5b41504b-2045-4eeb-bd0f-1804b88332f5 div.sk-serial::before {content: \"\";position: absolute;border-left: 1px solid gray;box-sizing: border-box;top: 2em;bottom: 0;left: 50%;}#sk-5b41504b-2045-4eeb-bd0f-1804b88332f5 div.sk-serial {display: flex;flex-direction: column;align-items: center;background-color: white;padding-right: 0.2em;padding-left: 0.2em;}#sk-5b41504b-2045-4eeb-bd0f-1804b88332f5 div.sk-item {z-index: 1;}#sk-5b41504b-2045-4eeb-bd0f-1804b88332f5 div.sk-parallel {display: flex;align-items: stretch;justify-content: center;background-color: white;}#sk-5b41504b-2045-4eeb-bd0f-1804b88332f5 div.sk-parallel::before {content: \"\";position: absolute;border-left: 1px solid gray;box-sizing: border-box;top: 2em;bottom: 0;left: 50%;}#sk-5b41504b-2045-4eeb-bd0f-1804b88332f5 div.sk-parallel-item {display: flex;flex-direction: column;position: relative;background-color: white;}#sk-5b41504b-2045-4eeb-bd0f-1804b88332f5 div.sk-parallel-item:first-child::after {align-self: flex-end;width: 50%;}#sk-5b41504b-2045-4eeb-bd0f-1804b88332f5 div.sk-parallel-item:last-child::after {align-self: flex-start;width: 50%;}#sk-5b41504b-2045-4eeb-bd0f-1804b88332f5 div.sk-parallel-item:only-child::after {width: 0;}#sk-5b41504b-2045-4eeb-bd0f-1804b88332f5 div.sk-dashed-wrapped {border: 1px dashed gray;margin: 0 0.4em 0.5em 0.4em;box-sizing: border-box;padding-bottom: 0.4em;background-color: white;position: relative;}#sk-5b41504b-2045-4eeb-bd0f-1804b88332f5 div.sk-label label {font-family: monospace;font-weight: bold;background-color: white;display: inline-block;line-height: 1.2em;}#sk-5b41504b-2045-4eeb-bd0f-1804b88332f5 div.sk-label-container {position: relative;z-index: 2;text-align: center;}#sk-5b41504b-2045-4eeb-bd0f-1804b88332f5 div.sk-container {/* jupyter's `normalize.less` sets `[hidden] { display: none; }` but bootstrap.min.css set `[hidden] { display: none !important; }` so we also need the `!important` here to be able to override the default hidden behavior on the sphinx rendered scikit-learn.org. See: https://github.com/scikit-learn/scikit-learn/issues/21755 */display: inline-block !important;position: relative;}#sk-5b41504b-2045-4eeb-bd0f-1804b88332f5 div.sk-text-repr-fallback {display: none;}</style><div id=\"sk-5b41504b-2045-4eeb-bd0f-1804b88332f5\" class=\"sk-top-container\"><div class=\"sk-text-repr-fallback\"><pre>ColumnTransformer(remainder=&#x27;passthrough&#x27;,\n",
              "                  transformers=[(&#x27;pipeline-1&#x27;,\n",
              "                                 Pipeline(steps=[(&#x27;simpleimputer&#x27;,\n",
              "                                                  SimpleImputer()),\n",
              "                                                 (&#x27;standardscaler&#x27;,\n",
              "                                                  StandardScaler())]),\n",
              "                                 &lt;sklearn.compose._column_transformer.make_column_selector object at 0x7fd0d69ed910&gt;),\n",
              "                                (&#x27;pipeline-2&#x27;,\n",
              "                                 Pipeline(steps=[(&#x27;simpleimputer&#x27;,\n",
              "                                                  SimpleImputer(strategy=&#x27;most_frequent&#x27;)),\n",
              "                                                 (&#x27;onehotencoder&#x27;,\n",
              "                                                  OneHotEncoder(handle_unknown=&#x27;ignore&#x27;,\n",
              "                                                                sparse=False))]),\n",
              "                                 &lt;sklearn.compose._column_transformer.make_column_selector object at 0x7fd0d69ed8d0&gt;)])</pre><b>Please rerun this cell to show the HTML repr or trust the notebook.</b></div><div class=\"sk-container\" hidden><div class=\"sk-item sk-dashed-wrapped\"><div class=\"sk-label-container\"><div class=\"sk-label sk-toggleable\"><input class=\"sk-toggleable__control sk-hidden--visually\" id=\"1e4372b5-609f-401a-a667-5255f4efb0ab\" type=\"checkbox\" ><label for=\"1e4372b5-609f-401a-a667-5255f4efb0ab\" class=\"sk-toggleable__label sk-toggleable__label-arrow\">ColumnTransformer</label><div class=\"sk-toggleable__content\"><pre>ColumnTransformer(remainder=&#x27;passthrough&#x27;,\n",
              "                  transformers=[(&#x27;pipeline-1&#x27;,\n",
              "                                 Pipeline(steps=[(&#x27;simpleimputer&#x27;,\n",
              "                                                  SimpleImputer()),\n",
              "                                                 (&#x27;standardscaler&#x27;,\n",
              "                                                  StandardScaler())]),\n",
              "                                 &lt;sklearn.compose._column_transformer.make_column_selector object at 0x7fd0d69ed910&gt;),\n",
              "                                (&#x27;pipeline-2&#x27;,\n",
              "                                 Pipeline(steps=[(&#x27;simpleimputer&#x27;,\n",
              "                                                  SimpleImputer(strategy=&#x27;most_frequent&#x27;)),\n",
              "                                                 (&#x27;onehotencoder&#x27;,\n",
              "                                                  OneHotEncoder(handle_unknown=&#x27;ignore&#x27;,\n",
              "                                                                sparse=False))]),\n",
              "                                 &lt;sklearn.compose._column_transformer.make_column_selector object at 0x7fd0d69ed8d0&gt;)])</pre></div></div></div><div class=\"sk-parallel\"><div class=\"sk-parallel-item\"><div class=\"sk-item\"><div class=\"sk-label-container\"><div class=\"sk-label sk-toggleable\"><input class=\"sk-toggleable__control sk-hidden--visually\" id=\"4ff82f4d-c621-4b47-9dae-5d065256a690\" type=\"checkbox\" ><label for=\"4ff82f4d-c621-4b47-9dae-5d065256a690\" class=\"sk-toggleable__label sk-toggleable__label-arrow\">pipeline-1</label><div class=\"sk-toggleable__content\"><pre>&lt;sklearn.compose._column_transformer.make_column_selector object at 0x7fd0d69ed910&gt;</pre></div></div></div><div class=\"sk-serial\"><div class=\"sk-item\"><div class=\"sk-serial\"><div class=\"sk-item\"><div class=\"sk-estimator sk-toggleable\"><input class=\"sk-toggleable__control sk-hidden--visually\" id=\"121fc7da-b447-44fb-a40f-762f5cf3e81f\" type=\"checkbox\" ><label for=\"121fc7da-b447-44fb-a40f-762f5cf3e81f\" class=\"sk-toggleable__label sk-toggleable__label-arrow\">SimpleImputer</label><div class=\"sk-toggleable__content\"><pre>SimpleImputer()</pre></div></div></div><div class=\"sk-item\"><div class=\"sk-estimator sk-toggleable\"><input class=\"sk-toggleable__control sk-hidden--visually\" id=\"3722ea00-de23-4580-bca8-ec9f17321e1e\" type=\"checkbox\" ><label for=\"3722ea00-de23-4580-bca8-ec9f17321e1e\" class=\"sk-toggleable__label sk-toggleable__label-arrow\">StandardScaler</label><div class=\"sk-toggleable__content\"><pre>StandardScaler()</pre></div></div></div></div></div></div></div></div><div class=\"sk-parallel-item\"><div class=\"sk-item\"><div class=\"sk-label-container\"><div class=\"sk-label sk-toggleable\"><input class=\"sk-toggleable__control sk-hidden--visually\" id=\"1a4bfa7f-2f74-49a5-83bf-5711874f26eb\" type=\"checkbox\" ><label for=\"1a4bfa7f-2f74-49a5-83bf-5711874f26eb\" class=\"sk-toggleable__label sk-toggleable__label-arrow\">pipeline-2</label><div class=\"sk-toggleable__content\"><pre>&lt;sklearn.compose._column_transformer.make_column_selector object at 0x7fd0d69ed8d0&gt;</pre></div></div></div><div class=\"sk-serial\"><div class=\"sk-item\"><div class=\"sk-serial\"><div class=\"sk-item\"><div class=\"sk-estimator sk-toggleable\"><input class=\"sk-toggleable__control sk-hidden--visually\" id=\"5e8814c0-1900-4564-ac34-dff4d43f1948\" type=\"checkbox\" ><label for=\"5e8814c0-1900-4564-ac34-dff4d43f1948\" class=\"sk-toggleable__label sk-toggleable__label-arrow\">SimpleImputer</label><div class=\"sk-toggleable__content\"><pre>SimpleImputer(strategy=&#x27;most_frequent&#x27;)</pre></div></div></div><div class=\"sk-item\"><div class=\"sk-estimator sk-toggleable\"><input class=\"sk-toggleable__control sk-hidden--visually\" id=\"7674c633-1d5b-41f6-9719-73ba7556cb79\" type=\"checkbox\" ><label for=\"7674c633-1d5b-41f6-9719-73ba7556cb79\" class=\"sk-toggleable__label sk-toggleable__label-arrow\">OneHotEncoder</label><div class=\"sk-toggleable__content\"><pre>OneHotEncoder(handle_unknown=&#x27;ignore&#x27;, sparse=False)</pre></div></div></div></div></div></div></div></div><div class=\"sk-parallel-item\"><div class=\"sk-item\"><div class=\"sk-label-container\"><div class=\"sk-label sk-toggleable\"><input class=\"sk-toggleable__control sk-hidden--visually\" id=\"140bc816-31a2-4653-969f-b6496bea89ac\" type=\"checkbox\" ><label for=\"140bc816-31a2-4653-969f-b6496bea89ac\" class=\"sk-toggleable__label sk-toggleable__label-arrow\">remainder</label><div class=\"sk-toggleable__content\"><pre>[]</pre></div></div></div><div class=\"sk-serial\"><div class=\"sk-item\"><div class=\"sk-estimator sk-toggleable\"><input class=\"sk-toggleable__control sk-hidden--visually\" id=\"2f6bd0f2-c1c1-43ef-8506-0e1bf406ff8f\" type=\"checkbox\" ><label for=\"2f6bd0f2-c1c1-43ef-8506-0e1bf406ff8f\" class=\"sk-toggleable__label sk-toggleable__label-arrow\">passthrough</label><div class=\"sk-toggleable__content\"><pre>passthrough</pre></div></div></div></div></div></div></div></div></div></div>"
            ]
          },
          "metadata": {},
          "execution_count": 122
        }
      ]
    },
    {
      "cell_type": "code",
      "source": [
        "X_train_processed = preprocessing_pipeline.transform(X_train)\n",
        "X_test_processed = preprocessing_pipeline.transform(X_test)"
      ],
      "metadata": {
        "id": "VRa4fhAw8reZ"
      },
      "execution_count": 123,
      "outputs": []
    },
    {
      "cell_type": "code",
      "source": [
        "df_salary.info()"
      ],
      "metadata": {
        "colab": {
          "base_uri": "https://localhost:8080/"
        },
        "id": "l3VnidTctiQ-",
        "outputId": "a2767609-f746-4930-c707-9880848c3865"
      },
      "execution_count": 124,
      "outputs": [
        {
          "output_type": "stream",
          "name": "stdout",
          "text": [
            "<class 'pandas.core.frame.DataFrame'>\n",
            "Int64Index: 32537 entries, 0 to 32560\n",
            "Data columns (total 13 columns):\n",
            " #   Column          Non-Null Count  Dtype \n",
            "---  ------          --------------  ----- \n",
            " 0   age             32537 non-null  int64 \n",
            " 1   workclass       32537 non-null  object\n",
            " 2   education       32537 non-null  object\n",
            " 3   marital-status  32537 non-null  object\n",
            " 4   occupation      32537 non-null  object\n",
            " 5   relationship    32537 non-null  object\n",
            " 6   race            32537 non-null  object\n",
            " 7   sex             32537 non-null  object\n",
            " 8   capital-gain    32537 non-null  int64 \n",
            " 9   capital-loss    32537 non-null  int64 \n",
            " 10  hours-per-week  32537 non-null  int64 \n",
            " 11  native-country  32537 non-null  object\n",
            " 12  salary          32537 non-null  int64 \n",
            "dtypes: int64(5), object(8)\n",
            "memory usage: 4.5+ MB\n"
          ]
        }
      ]
    },
    {
      "cell_type": "code",
      "source": [
        "# ensure that the missing data was replaced, the categorical data was one-hot encoded, and the numeric data was scaled\n",
        "\n",
        "print(np.isnan(X_train_processed).sum().sum(), 'missing values in training data')\n",
        "print(np.isnan(X_test_processed).sum().sum(), 'missing values in testing data')\n",
        "print('\\n')\n",
        "print('All data in X_train_processed are', X_train_processed.dtype)\n",
        "print('All data in X_test_processed are', X_test_processed.dtype)\n",
        "print('\\n')\n",
        "print('shape of data is', X_train_processed.shape)\n",
        "print('\\n')\n",
        "X_train_processed"
      ],
      "metadata": {
        "id": "K9FQbEOhFmyl",
        "colab": {
          "base_uri": "https://localhost:8080/"
        },
        "outputId": "ef3ec7dd-3bfb-4993-e956-6d1fc78e11a9"
      },
      "execution_count": 125,
      "outputs": [
        {
          "output_type": "stream",
          "name": "stdout",
          "text": [
            "0 missing values in training data\n",
            "0 missing values in testing data\n",
            "\n",
            "\n",
            "All data in X_train_processed are float64\n",
            "All data in X_test_processed are float64\n",
            "\n",
            "\n",
            "shape of data is (24402, 106)\n",
            "\n",
            "\n"
          ]
        },
        {
          "output_type": "execute_result",
          "data": {
            "text/plain": [
              "array([[ 1.49861646, -0.1429956 , -0.21827231, ...,  1.        ,\n",
              "         0.        ,  0.        ],\n",
              "       [ 0.32377429, -0.1429956 , -0.21827231, ...,  1.        ,\n",
              "         0.        ,  0.        ],\n",
              "       [-1.43848897, -0.1429956 , -0.21827231, ...,  1.        ,\n",
              "         0.        ,  0.        ],\n",
              "       ...,\n",
              "       [-1.51191661, -0.1429956 , -0.21827231, ...,  1.        ,\n",
              "         0.        ,  0.        ],\n",
              "       [-0.33707443, -0.1429956 , -0.21827231, ...,  1.        ,\n",
              "         0.        ,  0.        ],\n",
              "       [-1.14477843, -0.1429956 , -0.21827231, ...,  1.        ,\n",
              "         0.        ,  0.        ]])"
            ]
          },
          "metadata": {},
          "execution_count": 125
        }
      ]
    },
    {
      "cell_type": "code",
      "source": [
        "# View Transformations\n",
        "\n",
        "X_train_df = pd.DataFrame(X_train_processed)\n",
        "X_train_df.head()"
      ],
      "metadata": {
        "id": "8jZEwI0t8umD",
        "colab": {
          "base_uri": "https://localhost:8080/",
          "height": 0
        },
        "outputId": "824749eb-a554-4746-8a47-6df1fadab2ba"
      },
      "execution_count": 126,
      "outputs": [
        {
          "output_type": "execute_result",
          "data": {
            "text/plain": [
              "        0         1         2         3    4    5    6    7    8    9    ...  \\\n",
              "0  1.498616 -0.142996 -0.218272  1.588788  0.0  0.0  0.0  0.0  0.0  0.0  ...   \n",
              "1  0.323774 -0.142996 -0.218272 -0.031707  0.0  0.0  0.0  0.0  0.0  0.0  ...   \n",
              "2 -1.438489 -0.142996 -0.218272 -1.652201  0.0  0.0  0.0  0.0  0.0  0.0  ...   \n",
              "3  0.103491 -0.142996 -0.218272 -0.031707  0.0  0.0  0.0  0.0  0.0  0.0  ...   \n",
              "4 -0.704213 -0.142996 -0.218272 -0.679904  0.0  0.0  0.0  0.0  0.0  0.0  ...   \n",
              "\n",
              "   96   97   98   99   100  101  102  103  104  105  \n",
              "0  0.0  0.0  0.0  0.0  0.0  0.0  0.0  1.0  0.0  0.0  \n",
              "1  0.0  0.0  0.0  0.0  0.0  0.0  0.0  1.0  0.0  0.0  \n",
              "2  0.0  0.0  0.0  0.0  0.0  0.0  0.0  1.0  0.0  0.0  \n",
              "3  0.0  0.0  0.0  0.0  0.0  0.0  0.0  1.0  0.0  0.0  \n",
              "4  0.0  0.0  0.0  0.0  0.0  0.0  0.0  1.0  0.0  0.0  \n",
              "\n",
              "[5 rows x 106 columns]"
            ],
            "text/html": [
              "\n",
              "  <div id=\"df-214daef1-a295-489f-aefb-0fbb3b52d54c\">\n",
              "    <div class=\"colab-df-container\">\n",
              "      <div>\n",
              "<style scoped>\n",
              "    .dataframe tbody tr th:only-of-type {\n",
              "        vertical-align: middle;\n",
              "    }\n",
              "\n",
              "    .dataframe tbody tr th {\n",
              "        vertical-align: top;\n",
              "    }\n",
              "\n",
              "    .dataframe thead th {\n",
              "        text-align: right;\n",
              "    }\n",
              "</style>\n",
              "<table border=\"1\" class=\"dataframe\">\n",
              "  <thead>\n",
              "    <tr style=\"text-align: right;\">\n",
              "      <th></th>\n",
              "      <th>0</th>\n",
              "      <th>1</th>\n",
              "      <th>2</th>\n",
              "      <th>3</th>\n",
              "      <th>4</th>\n",
              "      <th>5</th>\n",
              "      <th>6</th>\n",
              "      <th>7</th>\n",
              "      <th>8</th>\n",
              "      <th>9</th>\n",
              "      <th>...</th>\n",
              "      <th>96</th>\n",
              "      <th>97</th>\n",
              "      <th>98</th>\n",
              "      <th>99</th>\n",
              "      <th>100</th>\n",
              "      <th>101</th>\n",
              "      <th>102</th>\n",
              "      <th>103</th>\n",
              "      <th>104</th>\n",
              "      <th>105</th>\n",
              "    </tr>\n",
              "  </thead>\n",
              "  <tbody>\n",
              "    <tr>\n",
              "      <th>0</th>\n",
              "      <td>1.498616</td>\n",
              "      <td>-0.142996</td>\n",
              "      <td>-0.218272</td>\n",
              "      <td>1.588788</td>\n",
              "      <td>0.0</td>\n",
              "      <td>0.0</td>\n",
              "      <td>0.0</td>\n",
              "      <td>0.0</td>\n",
              "      <td>0.0</td>\n",
              "      <td>0.0</td>\n",
              "      <td>...</td>\n",
              "      <td>0.0</td>\n",
              "      <td>0.0</td>\n",
              "      <td>0.0</td>\n",
              "      <td>0.0</td>\n",
              "      <td>0.0</td>\n",
              "      <td>0.0</td>\n",
              "      <td>0.0</td>\n",
              "      <td>1.0</td>\n",
              "      <td>0.0</td>\n",
              "      <td>0.0</td>\n",
              "    </tr>\n",
              "    <tr>\n",
              "      <th>1</th>\n",
              "      <td>0.323774</td>\n",
              "      <td>-0.142996</td>\n",
              "      <td>-0.218272</td>\n",
              "      <td>-0.031707</td>\n",
              "      <td>0.0</td>\n",
              "      <td>0.0</td>\n",
              "      <td>0.0</td>\n",
              "      <td>0.0</td>\n",
              "      <td>0.0</td>\n",
              "      <td>0.0</td>\n",
              "      <td>...</td>\n",
              "      <td>0.0</td>\n",
              "      <td>0.0</td>\n",
              "      <td>0.0</td>\n",
              "      <td>0.0</td>\n",
              "      <td>0.0</td>\n",
              "      <td>0.0</td>\n",
              "      <td>0.0</td>\n",
              "      <td>1.0</td>\n",
              "      <td>0.0</td>\n",
              "      <td>0.0</td>\n",
              "    </tr>\n",
              "    <tr>\n",
              "      <th>2</th>\n",
              "      <td>-1.438489</td>\n",
              "      <td>-0.142996</td>\n",
              "      <td>-0.218272</td>\n",
              "      <td>-1.652201</td>\n",
              "      <td>0.0</td>\n",
              "      <td>0.0</td>\n",
              "      <td>0.0</td>\n",
              "      <td>0.0</td>\n",
              "      <td>0.0</td>\n",
              "      <td>0.0</td>\n",
              "      <td>...</td>\n",
              "      <td>0.0</td>\n",
              "      <td>0.0</td>\n",
              "      <td>0.0</td>\n",
              "      <td>0.0</td>\n",
              "      <td>0.0</td>\n",
              "      <td>0.0</td>\n",
              "      <td>0.0</td>\n",
              "      <td>1.0</td>\n",
              "      <td>0.0</td>\n",
              "      <td>0.0</td>\n",
              "    </tr>\n",
              "    <tr>\n",
              "      <th>3</th>\n",
              "      <td>0.103491</td>\n",
              "      <td>-0.142996</td>\n",
              "      <td>-0.218272</td>\n",
              "      <td>-0.031707</td>\n",
              "      <td>0.0</td>\n",
              "      <td>0.0</td>\n",
              "      <td>0.0</td>\n",
              "      <td>0.0</td>\n",
              "      <td>0.0</td>\n",
              "      <td>0.0</td>\n",
              "      <td>...</td>\n",
              "      <td>0.0</td>\n",
              "      <td>0.0</td>\n",
              "      <td>0.0</td>\n",
              "      <td>0.0</td>\n",
              "      <td>0.0</td>\n",
              "      <td>0.0</td>\n",
              "      <td>0.0</td>\n",
              "      <td>1.0</td>\n",
              "      <td>0.0</td>\n",
              "      <td>0.0</td>\n",
              "    </tr>\n",
              "    <tr>\n",
              "      <th>4</th>\n",
              "      <td>-0.704213</td>\n",
              "      <td>-0.142996</td>\n",
              "      <td>-0.218272</td>\n",
              "      <td>-0.679904</td>\n",
              "      <td>0.0</td>\n",
              "      <td>0.0</td>\n",
              "      <td>0.0</td>\n",
              "      <td>0.0</td>\n",
              "      <td>0.0</td>\n",
              "      <td>0.0</td>\n",
              "      <td>...</td>\n",
              "      <td>0.0</td>\n",
              "      <td>0.0</td>\n",
              "      <td>0.0</td>\n",
              "      <td>0.0</td>\n",
              "      <td>0.0</td>\n",
              "      <td>0.0</td>\n",
              "      <td>0.0</td>\n",
              "      <td>1.0</td>\n",
              "      <td>0.0</td>\n",
              "      <td>0.0</td>\n",
              "    </tr>\n",
              "  </tbody>\n",
              "</table>\n",
              "<p>5 rows × 106 columns</p>\n",
              "</div>\n",
              "      <button class=\"colab-df-convert\" onclick=\"convertToInteractive('df-214daef1-a295-489f-aefb-0fbb3b52d54c')\"\n",
              "              title=\"Convert this dataframe to an interactive table.\"\n",
              "              style=\"display:none;\">\n",
              "        \n",
              "  <svg xmlns=\"http://www.w3.org/2000/svg\" height=\"24px\"viewBox=\"0 0 24 24\"\n",
              "       width=\"24px\">\n",
              "    <path d=\"M0 0h24v24H0V0z\" fill=\"none\"/>\n",
              "    <path d=\"M18.56 5.44l.94 2.06.94-2.06 2.06-.94-2.06-.94-.94-2.06-.94 2.06-2.06.94zm-11 1L8.5 8.5l.94-2.06 2.06-.94-2.06-.94L8.5 2.5l-.94 2.06-2.06.94zm10 10l.94 2.06.94-2.06 2.06-.94-2.06-.94-.94-2.06-.94 2.06-2.06.94z\"/><path d=\"M17.41 7.96l-1.37-1.37c-.4-.4-.92-.59-1.43-.59-.52 0-1.04.2-1.43.59L10.3 9.45l-7.72 7.72c-.78.78-.78 2.05 0 2.83L4 21.41c.39.39.9.59 1.41.59.51 0 1.02-.2 1.41-.59l7.78-7.78 2.81-2.81c.8-.78.8-2.07 0-2.86zM5.41 20L4 18.59l7.72-7.72 1.47 1.35L5.41 20z\"/>\n",
              "  </svg>\n",
              "      </button>\n",
              "      \n",
              "  <style>\n",
              "    .colab-df-container {\n",
              "      display:flex;\n",
              "      flex-wrap:wrap;\n",
              "      gap: 12px;\n",
              "    }\n",
              "\n",
              "    .colab-df-convert {\n",
              "      background-color: #E8F0FE;\n",
              "      border: none;\n",
              "      border-radius: 50%;\n",
              "      cursor: pointer;\n",
              "      display: none;\n",
              "      fill: #1967D2;\n",
              "      height: 32px;\n",
              "      padding: 0 0 0 0;\n",
              "      width: 32px;\n",
              "    }\n",
              "\n",
              "    .colab-df-convert:hover {\n",
              "      background-color: #E2EBFA;\n",
              "      box-shadow: 0px 1px 2px rgba(60, 64, 67, 0.3), 0px 1px 3px 1px rgba(60, 64, 67, 0.15);\n",
              "      fill: #174EA6;\n",
              "    }\n",
              "\n",
              "    [theme=dark] .colab-df-convert {\n",
              "      background-color: #3B4455;\n",
              "      fill: #D2E3FC;\n",
              "    }\n",
              "\n",
              "    [theme=dark] .colab-df-convert:hover {\n",
              "      background-color: #434B5C;\n",
              "      box-shadow: 0px 1px 3px 1px rgba(0, 0, 0, 0.15);\n",
              "      filter: drop-shadow(0px 1px 2px rgba(0, 0, 0, 0.3));\n",
              "      fill: #FFFFFF;\n",
              "    }\n",
              "  </style>\n",
              "\n",
              "      <script>\n",
              "        const buttonEl =\n",
              "          document.querySelector('#df-214daef1-a295-489f-aefb-0fbb3b52d54c button.colab-df-convert');\n",
              "        buttonEl.style.display =\n",
              "          google.colab.kernel.accessAllowed ? 'block' : 'none';\n",
              "\n",
              "        async function convertToInteractive(key) {\n",
              "          const element = document.querySelector('#df-214daef1-a295-489f-aefb-0fbb3b52d54c');\n",
              "          const dataTable =\n",
              "            await google.colab.kernel.invokeFunction('convertToInteractive',\n",
              "                                                     [key], {});\n",
              "          if (!dataTable) return;\n",
              "\n",
              "          const docLinkHtml = 'Like what you see? Visit the ' +\n",
              "            '<a target=\"_blank\" href=https://colab.research.google.com/notebooks/data_table.ipynb>data table notebook</a>'\n",
              "            + ' to learn more about interactive tables.';\n",
              "          element.innerHTML = '';\n",
              "          dataTable['output_type'] = 'display_data';\n",
              "          await google.colab.output.renderOutput(dataTable, element);\n",
              "          const docLink = document.createElement('div');\n",
              "          docLink.innerHTML = docLinkHtml;\n",
              "          element.appendChild(docLink);\n",
              "        }\n",
              "      </script>\n",
              "    </div>\n",
              "  </div>\n",
              "  "
            ]
          },
          "metadata": {},
          "execution_count": 126
        }
      ]
    },
    {
      "cell_type": "code",
      "source": [
        "#Use classifiction_report() to print a report of several metrics for all classes at once\n",
        "#for both models\n",
        "def evaluate_classification(y_true, y_predicted, average=None):\n",
        "  accuracy = accuracy_score(y_true, y_predicted)\n",
        "  recall = recall_score(y_true, y_predicted, average=average)\n",
        "  precision = precision_score(y_true, y_predicted, average=average)\n",
        "  f1 = f1_score(y_true, y_predicted, average=average)\n",
        "\n",
        "  print(f'Accuracy: {accuracy} \\nRecall: {recall} \\nPrecision: {precision} \\nF1 Score: {f1}')"
      ],
      "metadata": {
        "id": "GQLZDSly81yM"
      },
      "execution_count": 127,
      "outputs": []
    },
    {
      "cell_type": "markdown",
      "source": [
        "## **KNN Model**"
      ],
      "metadata": {
        "id": "vMl6hj0j14WI"
      }
    },
    {
      "cell_type": "code",
      "source": [
        "# Make an instance of the model\n",
        "\n",
        "knn = KNeighborsClassifier(n_neighbors=3)"
      ],
      "metadata": {
        "id": "uQ5ys1r483iL"
      },
      "execution_count": 128,
      "outputs": []
    },
    {
      "cell_type": "code",
      "source": [
        "# Look at the hyperparameters that may be tunable\n",
        "\n",
        "knn.get_params()"
      ],
      "metadata": {
        "id": "AxApfLvM3sQv",
        "colab": {
          "base_uri": "https://localhost:8080/"
        },
        "outputId": "a90ff5db-bfc6-4a94-fc47-99af8d5dbcc3"
      },
      "execution_count": 129,
      "outputs": [
        {
          "output_type": "execute_result",
          "data": {
            "text/plain": [
              "{'algorithm': 'auto',\n",
              " 'leaf_size': 30,\n",
              " 'metric': 'minkowski',\n",
              " 'metric_params': None,\n",
              " 'n_jobs': None,\n",
              " 'n_neighbors': 3,\n",
              " 'p': 2,\n",
              " 'weights': 'uniform'}"
            ]
          },
          "metadata": {},
          "execution_count": 129
        }
      ]
    },
    {
      "cell_type": "code",
      "source": [
        "# Make pipeline for KNN and insert Standard scaler variable\n",
        "knn_pipe = make_pipeline(scaler, knn)\n",
        "knn_pipe.fit(X_train_processed, y_train)"
      ],
      "metadata": {
        "id": "EEUCxgl53vX3",
        "colab": {
          "base_uri": "https://localhost:8080/",
          "height": 0
        },
        "outputId": "de8c20ad-edba-4e5e-c709-bb2729a9d970"
      },
      "execution_count": 130,
      "outputs": [
        {
          "output_type": "execute_result",
          "data": {
            "text/plain": [
              "Pipeline(steps=[('standardscaler', StandardScaler()),\n",
              "                ('kneighborsclassifier', KNeighborsClassifier(n_neighbors=3))])"
            ],
            "text/html": [
              "<style>#sk-6f0bbf50-3ec5-42e2-883b-951b21932501 {color: black;background-color: white;}#sk-6f0bbf50-3ec5-42e2-883b-951b21932501 pre{padding: 0;}#sk-6f0bbf50-3ec5-42e2-883b-951b21932501 div.sk-toggleable {background-color: white;}#sk-6f0bbf50-3ec5-42e2-883b-951b21932501 label.sk-toggleable__label {cursor: pointer;display: block;width: 100%;margin-bottom: 0;padding: 0.3em;box-sizing: border-box;text-align: center;}#sk-6f0bbf50-3ec5-42e2-883b-951b21932501 label.sk-toggleable__label-arrow:before {content: \"▸\";float: left;margin-right: 0.25em;color: #696969;}#sk-6f0bbf50-3ec5-42e2-883b-951b21932501 label.sk-toggleable__label-arrow:hover:before {color: black;}#sk-6f0bbf50-3ec5-42e2-883b-951b21932501 div.sk-estimator:hover label.sk-toggleable__label-arrow:before {color: black;}#sk-6f0bbf50-3ec5-42e2-883b-951b21932501 div.sk-toggleable__content {max-height: 0;max-width: 0;overflow: hidden;text-align: left;background-color: #f0f8ff;}#sk-6f0bbf50-3ec5-42e2-883b-951b21932501 div.sk-toggleable__content pre {margin: 0.2em;color: black;border-radius: 0.25em;background-color: #f0f8ff;}#sk-6f0bbf50-3ec5-42e2-883b-951b21932501 input.sk-toggleable__control:checked~div.sk-toggleable__content {max-height: 200px;max-width: 100%;overflow: auto;}#sk-6f0bbf50-3ec5-42e2-883b-951b21932501 input.sk-toggleable__control:checked~label.sk-toggleable__label-arrow:before {content: \"▾\";}#sk-6f0bbf50-3ec5-42e2-883b-951b21932501 div.sk-estimator input.sk-toggleable__control:checked~label.sk-toggleable__label {background-color: #d4ebff;}#sk-6f0bbf50-3ec5-42e2-883b-951b21932501 div.sk-label input.sk-toggleable__control:checked~label.sk-toggleable__label {background-color: #d4ebff;}#sk-6f0bbf50-3ec5-42e2-883b-951b21932501 input.sk-hidden--visually {border: 0;clip: rect(1px 1px 1px 1px);clip: rect(1px, 1px, 1px, 1px);height: 1px;margin: -1px;overflow: hidden;padding: 0;position: absolute;width: 1px;}#sk-6f0bbf50-3ec5-42e2-883b-951b21932501 div.sk-estimator {font-family: monospace;background-color: #f0f8ff;border: 1px dotted black;border-radius: 0.25em;box-sizing: border-box;margin-bottom: 0.5em;}#sk-6f0bbf50-3ec5-42e2-883b-951b21932501 div.sk-estimator:hover {background-color: #d4ebff;}#sk-6f0bbf50-3ec5-42e2-883b-951b21932501 div.sk-parallel-item::after {content: \"\";width: 100%;border-bottom: 1px solid gray;flex-grow: 1;}#sk-6f0bbf50-3ec5-42e2-883b-951b21932501 div.sk-label:hover label.sk-toggleable__label {background-color: #d4ebff;}#sk-6f0bbf50-3ec5-42e2-883b-951b21932501 div.sk-serial::before {content: \"\";position: absolute;border-left: 1px solid gray;box-sizing: border-box;top: 2em;bottom: 0;left: 50%;}#sk-6f0bbf50-3ec5-42e2-883b-951b21932501 div.sk-serial {display: flex;flex-direction: column;align-items: center;background-color: white;padding-right: 0.2em;padding-left: 0.2em;}#sk-6f0bbf50-3ec5-42e2-883b-951b21932501 div.sk-item {z-index: 1;}#sk-6f0bbf50-3ec5-42e2-883b-951b21932501 div.sk-parallel {display: flex;align-items: stretch;justify-content: center;background-color: white;}#sk-6f0bbf50-3ec5-42e2-883b-951b21932501 div.sk-parallel::before {content: \"\";position: absolute;border-left: 1px solid gray;box-sizing: border-box;top: 2em;bottom: 0;left: 50%;}#sk-6f0bbf50-3ec5-42e2-883b-951b21932501 div.sk-parallel-item {display: flex;flex-direction: column;position: relative;background-color: white;}#sk-6f0bbf50-3ec5-42e2-883b-951b21932501 div.sk-parallel-item:first-child::after {align-self: flex-end;width: 50%;}#sk-6f0bbf50-3ec5-42e2-883b-951b21932501 div.sk-parallel-item:last-child::after {align-self: flex-start;width: 50%;}#sk-6f0bbf50-3ec5-42e2-883b-951b21932501 div.sk-parallel-item:only-child::after {width: 0;}#sk-6f0bbf50-3ec5-42e2-883b-951b21932501 div.sk-dashed-wrapped {border: 1px dashed gray;margin: 0 0.4em 0.5em 0.4em;box-sizing: border-box;padding-bottom: 0.4em;background-color: white;position: relative;}#sk-6f0bbf50-3ec5-42e2-883b-951b21932501 div.sk-label label {font-family: monospace;font-weight: bold;background-color: white;display: inline-block;line-height: 1.2em;}#sk-6f0bbf50-3ec5-42e2-883b-951b21932501 div.sk-label-container {position: relative;z-index: 2;text-align: center;}#sk-6f0bbf50-3ec5-42e2-883b-951b21932501 div.sk-container {/* jupyter's `normalize.less` sets `[hidden] { display: none; }` but bootstrap.min.css set `[hidden] { display: none !important; }` so we also need the `!important` here to be able to override the default hidden behavior on the sphinx rendered scikit-learn.org. See: https://github.com/scikit-learn/scikit-learn/issues/21755 */display: inline-block !important;position: relative;}#sk-6f0bbf50-3ec5-42e2-883b-951b21932501 div.sk-text-repr-fallback {display: none;}</style><div id=\"sk-6f0bbf50-3ec5-42e2-883b-951b21932501\" class=\"sk-top-container\"><div class=\"sk-text-repr-fallback\"><pre>Pipeline(steps=[(&#x27;standardscaler&#x27;, StandardScaler()),\n",
              "                (&#x27;kneighborsclassifier&#x27;, KNeighborsClassifier(n_neighbors=3))])</pre><b>Please rerun this cell to show the HTML repr or trust the notebook.</b></div><div class=\"sk-container\" hidden><div class=\"sk-item sk-dashed-wrapped\"><div class=\"sk-label-container\"><div class=\"sk-label sk-toggleable\"><input class=\"sk-toggleable__control sk-hidden--visually\" id=\"24721d08-38e4-484d-8593-b2bfcd6cf8c0\" type=\"checkbox\" ><label for=\"24721d08-38e4-484d-8593-b2bfcd6cf8c0\" class=\"sk-toggleable__label sk-toggleable__label-arrow\">Pipeline</label><div class=\"sk-toggleable__content\"><pre>Pipeline(steps=[(&#x27;standardscaler&#x27;, StandardScaler()),\n",
              "                (&#x27;kneighborsclassifier&#x27;, KNeighborsClassifier(n_neighbors=3))])</pre></div></div></div><div class=\"sk-serial\"><div class=\"sk-item\"><div class=\"sk-estimator sk-toggleable\"><input class=\"sk-toggleable__control sk-hidden--visually\" id=\"c49a32df-b67f-4f45-bef8-698cb5ab2c69\" type=\"checkbox\" ><label for=\"c49a32df-b67f-4f45-bef8-698cb5ab2c69\" class=\"sk-toggleable__label sk-toggleable__label-arrow\">StandardScaler</label><div class=\"sk-toggleable__content\"><pre>StandardScaler()</pre></div></div></div><div class=\"sk-item\"><div class=\"sk-estimator sk-toggleable\"><input class=\"sk-toggleable__control sk-hidden--visually\" id=\"117696e0-e2fc-4ae3-9c84-e73db3b795c8\" type=\"checkbox\" ><label for=\"117696e0-e2fc-4ae3-9c84-e73db3b795c8\" class=\"sk-toggleable__label sk-toggleable__label-arrow\">KNeighborsClassifier</label><div class=\"sk-toggleable__content\"><pre>KNeighborsClassifier(n_neighbors=3)</pre></div></div></div></div></div></div></div>"
            ]
          },
          "metadata": {},
          "execution_count": 130
        }
      ]
    },
    {
      "cell_type": "markdown",
      "source": [
        "### **Classification Report**"
      ],
      "metadata": {
        "id": "YSQIfp8yR5RZ"
      }
    },
    {
      "cell_type": "code",
      "source": [
        "# Predict the values for the train set\n",
        "\n",
        "Knn_predict_train = knn_pipe.predict(X_train_processed)"
      ],
      "metadata": {
        "id": "AZMwCYulQCV0"
      },
      "execution_count": 131,
      "outputs": []
    },
    {
      "cell_type": "code",
      "source": [
        "# Predict the values for the test set\n",
        "\n",
        "Knn_predict_test = knn_pipe.predict(X_test_processed)"
      ],
      "metadata": {
        "id": "XE78Sh4sQKnS"
      },
      "execution_count": 132,
      "outputs": []
    },
    {
      "cell_type": "code",
      "source": [
        "knn_test_report = classification_report(y_test,Knn_predict_test)\n",
        "print(knn_test_report)"
      ],
      "metadata": {
        "id": "JvwBZGkqRWzs",
        "colab": {
          "base_uri": "https://localhost:8080/"
        },
        "outputId": "6078615d-9fc7-487d-da69-756185a10609"
      },
      "execution_count": 133,
      "outputs": [
        {
          "output_type": "stream",
          "name": "stdout",
          "text": [
            "              precision    recall  f1-score   support\n",
            "\n",
            "           0       0.87      0.89      0.88      6159\n",
            "           1       0.63      0.58      0.60      1976\n",
            "\n",
            "    accuracy                           0.82      8135\n",
            "   macro avg       0.75      0.73      0.74      8135\n",
            "weighted avg       0.81      0.82      0.81      8135\n",
            "\n"
          ]
        }
      ]
    },
    {
      "cell_type": "code",
      "source": [
        "from sklearn.metrics import confusion_matrix\n",
        "\n",
        "# actual values: y_test.values\n",
        "# KNN predictions: model predictions\n",
        "\n",
        "cm = confusion_matrix(y_test.values,Knn_predict_test)\n",
        "\n",
        "cm"
      ],
      "metadata": {
        "id": "3uRWsVh5T4GT",
        "colab": {
          "base_uri": "https://localhost:8080/"
        },
        "outputId": "e48655c2-25e1-48d5-cb9e-1d74699ccfff"
      },
      "execution_count": 134,
      "outputs": [
        {
          "output_type": "execute_result",
          "data": {
            "text/plain": [
              "array([[5497,  662],\n",
              "       [ 839, 1137]])"
            ]
          },
          "metadata": {},
          "execution_count": 134
        }
      ]
    },
    {
      "cell_type": "code",
      "source": [
        "from sklearn.metrics import ConfusionMatrixDisplay\n",
        "\n",
        "#Plot the confusion matrix\n",
        "labels = ['<=$50k', '>$50k']\n",
        "# normalize = true will show values in percentages\n",
        "ConfusionMatrixDisplay.from_predictions(y_test, Knn_predict_test, display_labels=labels, cmap='Blues', normalize='true');"
      ],
      "metadata": {
        "colab": {
          "base_uri": "https://localhost:8080/",
          "height": 0
        },
        "id": "_IySYauW1QYF",
        "outputId": "1b5395d5-433a-417f-cd25-b7bc6150fca0"
      },
      "execution_count": 135,
      "outputs": [
        {
          "output_type": "display_data",
          "data": {
            "text/plain": [
              "<Figure size 432x288 with 2 Axes>"
            ],
            "image/png": "[encoded data removed]"
          },
          "metadata": {
            "needs_background": "light"
          }
        }
      ]
    },
    {
      "cell_type": "code",
      "source": [
        "# Evaluate the model's performance - on testing data\n",
        "knn_accuracy_score_test = knn_pipe.score(X_test_processed, y_test)\n",
        "\n",
        "\n",
        "knn_accuracy_score_train = knn_pipe.score(X_train_processed, y_train)\n",
        "\n",
        "print(f\"Knn accuracy test score: {knn_accuracy_score_test}\")\n",
        "print(f\"Knn accuracy train score: {knn_accuracy_score_train}\")"
      ],
      "metadata": {
        "id": "MgJbOfLKQOYU",
        "colab": {
          "base_uri": "https://localhost:8080/"
        },
        "outputId": "4de779d4-c9c9-4338-e665-ed45847e2f30"
      },
      "execution_count": 136,
      "outputs": [
        {
          "output_type": "stream",
          "name": "stdout",
          "text": [
            "Knn accuracy test score: 0.8154886293792256\n",
            "Knn accuracy train score: 0.8943119416441275\n"
          ]
        }
      ]
    },
    {
      "cell_type": "markdown",
      "source": [
        "## **Random Forest Model**"
      ],
      "metadata": {
        "id": "pkiVltUFIRoe"
      }
    },
    {
      "cell_type": "code",
      "source": [
        "# Random Forest Classifier\n",
        "# max_depth of 6 provided the most optimal results in our model\n",
        "\n",
        "rf = RandomForestClassifier(max_depth=6, random_state=42)"
      ],
      "metadata": {
        "id": "3XFSzjFX7RvW"
      },
      "execution_count": 137,
      "outputs": []
    },
    {
      "cell_type": "code",
      "source": [
        "rf.get_params()"
      ],
      "metadata": {
        "id": "5ZkCQtqN7g3b",
        "colab": {
          "base_uri": "https://localhost:8080/"
        },
        "outputId": "64ad1fdf-d773-49ca-b8b5-e1b31eea3591"
      },
      "execution_count": 138,
      "outputs": [
        {
          "output_type": "execute_result",
          "data": {
            "text/plain": [
              "{'bootstrap': True,\n",
              " 'ccp_alpha': 0.0,\n",
              " 'class_weight': None,\n",
              " 'criterion': 'gini',\n",
              " 'max_depth': 6,\n",
              " 'max_features': 'auto',\n",
              " 'max_leaf_nodes': None,\n",
              " 'max_samples': None,\n",
              " 'min_impurity_decrease': 0.0,\n",
              " 'min_samples_leaf': 1,\n",
              " 'min_samples_split': 2,\n",
              " 'min_weight_fraction_leaf': 0.0,\n",
              " 'n_estimators': 100,\n",
              " 'n_jobs': None,\n",
              " 'oob_score': False,\n",
              " 'random_state': 42,\n",
              " 'verbose': 0,\n",
              " 'warm_start': False}"
            ]
          },
          "metadata": {},
          "execution_count": 138
        }
      ]
    },
    {
      "cell_type": "code",
      "source": [
        "rf.fit(X_train_processed, y_train)"
      ],
      "metadata": {
        "id": "J1Bvj4KB7jIt",
        "colab": {
          "base_uri": "https://localhost:8080/",
          "height": 0
        },
        "outputId": "713af228-00c1-4fbd-96e6-be526510d382"
      },
      "execution_count": 139,
      "outputs": [
        {
          "output_type": "execute_result",
          "data": {
            "text/plain": [
              "RandomForestClassifier(max_depth=6, random_state=42)"
            ],
            "text/html": [
              "<style>#sk-be904b0f-3031-4c40-be82-bad0f9f41d98 {color: black;background-color: white;}#sk-be904b0f-3031-4c40-be82-bad0f9f41d98 pre{padding: 0;}#sk-be904b0f-3031-4c40-be82-bad0f9f41d98 div.sk-toggleable {background-color: white;}#sk-be904b0f-3031-4c40-be82-bad0f9f41d98 label.sk-toggleable__label {cursor: pointer;display: block;width: 100%;margin-bottom: 0;padding: 0.3em;box-sizing: border-box;text-align: center;}#sk-be904b0f-3031-4c40-be82-bad0f9f41d98 label.sk-toggleable__label-arrow:before {content: \"▸\";float: left;margin-right: 0.25em;color: #696969;}#sk-be904b0f-3031-4c40-be82-bad0f9f41d98 label.sk-toggleable__label-arrow:hover:before {color: black;}#sk-be904b0f-3031-4c40-be82-bad0f9f41d98 div.sk-estimator:hover label.sk-toggleable__label-arrow:before {color: black;}#sk-be904b0f-3031-4c40-be82-bad0f9f41d98 div.sk-toggleable__content {max-height: 0;max-width: 0;overflow: hidden;text-align: left;background-color: #f0f8ff;}#sk-be904b0f-3031-4c40-be82-bad0f9f41d98 div.sk-toggleable__content pre {margin: 0.2em;color: black;border-radius: 0.25em;background-color: #f0f8ff;}#sk-be904b0f-3031-4c40-be82-bad0f9f41d98 input.sk-toggleable__control:checked~div.sk-toggleable__content {max-height: 200px;max-width: 100%;overflow: auto;}#sk-be904b0f-3031-4c40-be82-bad0f9f41d98 input.sk-toggleable__control:checked~label.sk-toggleable__label-arrow:before {content: \"▾\";}#sk-be904b0f-3031-4c40-be82-bad0f9f41d98 div.sk-estimator input.sk-toggleable__control:checked~label.sk-toggleable__label {background-color: #d4ebff;}#sk-be904b0f-3031-4c40-be82-bad0f9f41d98 div.sk-label input.sk-toggleable__control:checked~label.sk-toggleable__label {background-color: #d4ebff;}#sk-be904b0f-3031-4c40-be82-bad0f9f41d98 input.sk-hidden--visually {border: 0;clip: rect(1px 1px 1px 1px);clip: rect(1px, 1px, 1px, 1px);height: 1px;margin: -1px;overflow: hidden;padding: 0;position: absolute;width: 1px;}#sk-be904b0f-3031-4c40-be82-bad0f9f41d98 div.sk-estimator {font-family: monospace;background-color: #f0f8ff;border: 1px dotted black;border-radius: 0.25em;box-sizing: border-box;margin-bottom: 0.5em;}#sk-be904b0f-3031-4c40-be82-bad0f9f41d98 div.sk-estimator:hover {background-color: #d4ebff;}#sk-be904b0f-3031-4c40-be82-bad0f9f41d98 div.sk-parallel-item::after {content: \"\";width: 100%;border-bottom: 1px solid gray;flex-grow: 1;}#sk-be904b0f-3031-4c40-be82-bad0f9f41d98 div.sk-label:hover label.sk-toggleable__label {background-color: #d4ebff;}#sk-be904b0f-3031-4c40-be82-bad0f9f41d98 div.sk-serial::before {content: \"\";position: absolute;border-left: 1px solid gray;box-sizing: border-box;top: 2em;bottom: 0;left: 50%;}#sk-be904b0f-3031-4c40-be82-bad0f9f41d98 div.sk-serial {display: flex;flex-direction: column;align-items: center;background-color: white;padding-right: 0.2em;padding-left: 0.2em;}#sk-be904b0f-3031-4c40-be82-bad0f9f41d98 div.sk-item {z-index: 1;}#sk-be904b0f-3031-4c40-be82-bad0f9f41d98 div.sk-parallel {display: flex;align-items: stretch;justify-content: center;background-color: white;}#sk-be904b0f-3031-4c40-be82-bad0f9f41d98 div.sk-parallel::before {content: \"\";position: absolute;border-left: 1px solid gray;box-sizing: border-box;top: 2em;bottom: 0;left: 50%;}#sk-be904b0f-3031-4c40-be82-bad0f9f41d98 div.sk-parallel-item {display: flex;flex-direction: column;position: relative;background-color: white;}#sk-be904b0f-3031-4c40-be82-bad0f9f41d98 div.sk-parallel-item:first-child::after {align-self: flex-end;width: 50%;}#sk-be904b0f-3031-4c40-be82-bad0f9f41d98 div.sk-parallel-item:last-child::after {align-self: flex-start;width: 50%;}#sk-be904b0f-3031-4c40-be82-bad0f9f41d98 div.sk-parallel-item:only-child::after {width: 0;}#sk-be904b0f-3031-4c40-be82-bad0f9f41d98 div.sk-dashed-wrapped {border: 1px dashed gray;margin: 0 0.4em 0.5em 0.4em;box-sizing: border-box;padding-bottom: 0.4em;background-color: white;position: relative;}#sk-be904b0f-3031-4c40-be82-bad0f9f41d98 div.sk-label label {font-family: monospace;font-weight: bold;background-color: white;display: inline-block;line-height: 1.2em;}#sk-be904b0f-3031-4c40-be82-bad0f9f41d98 div.sk-label-container {position: relative;z-index: 2;text-align: center;}#sk-be904b0f-3031-4c40-be82-bad0f9f41d98 div.sk-container {/* jupyter's `normalize.less` sets `[hidden] { display: none; }` but bootstrap.min.css set `[hidden] { display: none !important; }` so we also need the `!important` here to be able to override the default hidden behavior on the sphinx rendered scikit-learn.org. See: https://github.com/scikit-learn/scikit-learn/issues/21755 */display: inline-block !important;position: relative;}#sk-be904b0f-3031-4c40-be82-bad0f9f41d98 div.sk-text-repr-fallback {display: none;}</style><div id=\"sk-be904b0f-3031-4c40-be82-bad0f9f41d98\" class=\"sk-top-container\"><div class=\"sk-text-repr-fallback\"><pre>RandomForestClassifier(max_depth=6, random_state=42)</pre><b>Please rerun this cell to show the HTML repr or trust the notebook.</b></div><div class=\"sk-container\" hidden><div class=\"sk-item\"><div class=\"sk-estimator sk-toggleable\"><input class=\"sk-toggleable__control sk-hidden--visually\" id=\"9745f4df-6a15-48f0-992f-d7a39c076ed2\" type=\"checkbox\" checked><label for=\"9745f4df-6a15-48f0-992f-d7a39c076ed2\" class=\"sk-toggleable__label sk-toggleable__label-arrow\">RandomForestClassifier</label><div class=\"sk-toggleable__content\"><pre>RandomForestClassifier(max_depth=6, random_state=42)</pre></div></div></div></div></div>"
            ]
          },
          "metadata": {},
          "execution_count": 139
        }
      ]
    },
    {
      "cell_type": "markdown",
      "source": [
        "### **Classification Report**"
      ],
      "metadata": {
        "id": "3-iernRPOX_8"
      }
    },
    {
      "cell_type": "code",
      "source": [
        "rf_predict_train = rf.predict(X_train_processed)"
      ],
      "metadata": {
        "id": "7Ppx0KrJOAnQ"
      },
      "execution_count": 140,
      "outputs": []
    },
    {
      "cell_type": "code",
      "source": [
        "rf_predict_test= rf.predict(X_test_processed)"
      ],
      "metadata": {
        "id": "U1Q7JpUE7g-L"
      },
      "execution_count": 141,
      "outputs": []
    },
    {
      "cell_type": "code",
      "source": [
        "test_report = classification_report(y_test, rf_predict_test)\n",
        "print(test_report)"
      ],
      "metadata": {
        "id": "SheCiplwNXii",
        "colab": {
          "base_uri": "https://localhost:8080/"
        },
        "outputId": "19d1e6e3-6228-4a9f-c5d8-1e2ed76d7dd2"
      },
      "execution_count": 142,
      "outputs": [
        {
          "output_type": "stream",
          "name": "stdout",
          "text": [
            "              precision    recall  f1-score   support\n",
            "\n",
            "           0       0.84      0.98      0.90      6159\n",
            "           1       0.86      0.43      0.57      1976\n",
            "\n",
            "    accuracy                           0.84      8135\n",
            "   macro avg       0.85      0.70      0.74      8135\n",
            "weighted avg       0.85      0.84      0.82      8135\n",
            "\n"
          ]
        }
      ]
    },
    {
      "cell_type": "code",
      "source": [
        "rf_train_score = rf.score(X_train_processed, y_train)\n",
        "rf_test_score = rf.score(X_test_processed, y_test)\n",
        "\n",
        "print(f\"Random Forest accuracy train score: {rf_train_score}\")\n",
        "print(f\"Random Forest accuracy test score: {rf_test_score}\")"
      ],
      "metadata": {
        "id": "bUPxlYRYOuXw",
        "colab": {
          "base_uri": "https://localhost:8080/"
        },
        "outputId": "8bcdfaf3-a4c1-4893-9c7e-598d60a5e75c"
      },
      "execution_count": 143,
      "outputs": [
        {
          "output_type": "stream",
          "name": "stdout",
          "text": [
            "Random Forest accuracy train score: 0.8392754692238341\n",
            "Random Forest accuracy test score: 0.844499078057775\n"
          ]
        }
      ]
    },
    {
      "cell_type": "markdown",
      "source": [
        "### **Production Model**"
      ],
      "metadata": {
        "id": "3Lm7KLSLWUAG"
      }
    },
    {
      "cell_type": "markdown",
      "source": [
        "The **KNN model** yielded better results in predicting whether a person makes over 50k a year. \n",
        "\n",
        "Due to it's classification report, we can see how it's precision score (81%) compares to the Random forest model (86%) of predicting a salary over 50K. The recall suggests that the Random Forest model only predicted the outcome correctly for 43% while KNN model reached 58%. \n",
        "\n",
        "The KNN model has the closest F1 score to 1, indicating better performance in predicting whether or not a person makes over 50k."
      ],
      "metadata": {
        "id": "RX3PwroHWanH"
      }
    },
    {
      "cell_type": "markdown",
      "source": [
        "# **Notes**"
      ],
      "metadata": {
        "id": "RYajGu1Rlb0P"
      }
    },
    {
      "cell_type": "markdown",
      "source": [
        "Integer - Numerical\n",
        "*   age\n",
        "*   capital-gain\n",
        "*   capital-loss\n",
        "*   hours-per-week\n",
        "\n",
        "Object - Categorical\n",
        "*   workclass\n",
        "*   marital-status\n",
        "*   native-country\n",
        "*   occupation\n",
        "*   relationship\n",
        "*   race\n",
        "*   salary\n",
        "*   sex\n",
        "\n"
      ],
      "metadata": {
        "id": "FBF3oI9z01WH"
      }
    },
    {
      "cell_type": "markdown",
      "source": [
        "No missing values since dataset seems to be filled with unknown values initially using 0. These values will be addressed with SimpleImputer using the Mode Strategy. Using the mode strategy should be best since the data in itself is categorical.\n",
        "\n",
        "\n",
        "*   **Columns**: Native Country, Occupation, Work Class contain large amounts of data with unknown values. \n",
        "\n",
        "\n"
      ],
      "metadata": {
        "id": "Yb1XJ58_CjD5"
      }
    },
    {
      "cell_type": "markdown",
      "source": [
        "\n",
        "*   Dropped 24 duplicate rows\n",
        "*   Dropping fnlwgt & education-num as they contain mostly unique values. Since columns will have no value to our analysis.\n",
        "\n"
      ],
      "metadata": {
        "id": "jI4dy5n_IMZp"
      }
    },
    {
      "cell_type": "markdown",
      "source": [
        "**Salary Prediction Data Dictionary**\n",
        "\n",
        "*  **age**: continuous\n",
        "*   **workclass**: Private, Self-emp-not-inc, Self-emp-inc, Federal-gov, Local-gov, State-gov, Without-pay, Never-worked\n",
        "\n",
        "\n",
        "*   **fnlwgt**: continuous\n",
        "\n",
        "*  **education**: Bachelors, Some-college, 11th, HS-grad, Prof-school, Assoc-acdm, Assoc-voc, 9th, 7th-8th, 12th, Masters, 1st-4th, 10th, Doctorate, 5th-6th, Preschool\n",
        "*   **education-num**: continuous\n",
        "\n",
        "*   **marital-statu**s: Married-civ-spouse, Divorced, Never-married, Separated, Widowed, Married-spouse-absent, Married-AF-spouse\n",
        "*   **Customer Name**: Name of the Customer\n",
        "\n",
        "\n",
        "*   **occupation**: Tech-support, Craft-repair, Other-service, Sales, Exec-managerial, Prof-specialty, Handlers-cleaners, Machine-op-inspct, Adm-clerical, Farming-fishing, Transport-moving, Priv-house-serv, Protective-serv, Armed-Forces\n",
        "\n",
        "\n",
        "*   **relationship**: Wife, Own-child, Husband, Not-in-family, Other-relative, Unmarried\n",
        "\n",
        "\n",
        "*   **race**: White, Asian-Pac-Islander, Amer-Indian-Eskimo, Other, Black\n",
        "\n",
        "\n",
        "\n",
        "*   **sex**: Female, Male\n",
        "*   **capital-gain**: continuous\n",
        "\n",
        "\n",
        "\n",
        "*  **capital-loss**: continuous\n",
        "*   **hours-per-week**: continuous\n",
        "\n",
        "\n",
        "*   **native-country**: United-States, Cambodia, England, Puerto-Rico, Canada, Germany, Outlying-US(Guam-USVI-etc), India, Japan, Greece, South, China, Cuba, Iran, Honduras, Philippines, Italy, Poland, Jamaica, Vietnam, Mexico, Portugal, Ireland, France, Dominican-Republic, Laos, Ecuador, Taiwan, Haiti, Columbia, Hungary, Guatemala, Nicaragua, Scotland, Thailand, Yugoslavia, El-Salvador, Trinadad&Tobago, Peru, Hong, Holand-Netherlands\n",
        "\n",
        "*   **salary**: <=50K or >50K"
      ],
      "metadata": {
        "id": "2Sog6dlB0gzH"
      }
    }
  ]
}